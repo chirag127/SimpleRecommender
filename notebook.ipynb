{
 "cells": [
  {
   "cell_type": "markdown",
   "id": "configured-phrase",
   "metadata": {
    "pycharm": {
     "name": "#%% md\n"
    }
   },
   "source": [
    "# Netflix Movie Data\n",
    "\n"
   ]
  },
  {
   "cell_type": "markdown",
   "id": "instructional-headline",
   "metadata": {
    "pycharm": {
     "name": "#%% md\n"
    }
   },
   "source": [
    "This dataset contains more than 8,500 Netflix movies and TV shows, including cast members, duration, and genre. It contains titles added as recently as late September 2021."
   ]
  },
  {
   "cell_type": "code",
   "execution_count": 1,
   "id": "polyphonic-snapshot",
   "metadata": {
    "pycharm": {
     "name": "#%%\n"
    }
   },
   "outputs": [
    {
     "data": {
      "text/plain": "            type                  title         director  \\\nshow_id                                                    \ns1         Movie   Dick Johnson Is Dead  Kirsten Johnson   \ns2       TV Show          Blood & Water              NaN   \ns3       TV Show              Ganglands  Julien Leclercq   \ns4       TV Show  Jailbirds New Orleans              NaN   \ns5       TV Show           Kota Factory              NaN   \n\n                                                      cast        country  \\\nshow_id                                                                     \ns1                                                     NaN  United States   \ns2       Ama Qamata, Khosi Ngema, Gail Mabalane, Thaban...   South Africa   \ns3       Sami Bouajila, Tracy Gotoas, Samuel Jouy, Nabi...            NaN   \ns4                                                     NaN            NaN   \ns5       Mayur More, Jitendra Kumar, Ranjan Raj, Alam K...          India   \n\n                 date_added  release_year rating   duration  \\\nshow_id                                                       \ns1       September 25, 2021          2020  PG-13     90 min   \ns2       September 24, 2021          2021  TV-MA  2 Seasons   \ns3       September 24, 2021          2021  TV-MA   1 Season   \ns4       September 24, 2021          2021  TV-MA   1 Season   \ns5       September 24, 2021          2021  TV-MA  2 Seasons   \n\n                                                 listed_in  \\\nshow_id                                                      \ns1                                           Documentaries   \ns2         International TV Shows, TV Dramas, TV Mysteries   \ns3       Crime TV Shows, International TV Shows, TV Act...   \ns4                                  Docuseries, Reality TV   \ns5       International TV Shows, Romantic TV Shows, TV ...   \n\n                                               description  \nshow_id                                                     \ns1       As her father nears the end of his life, filmm...  \ns2       After crossing paths at a party, a Cape Town t...  \ns3       To protect his family from a powerful drug lor...  \ns4       Feuds, flirtations and toilet talk go down amo...  \ns5       In a city of coaching centers known to train I...  ",
      "text/html": "<div>\n<style scoped>\n    .dataframe tbody tr th:only-of-type {\n        vertical-align: middle;\n    }\n\n    .dataframe tbody tr th {\n        vertical-align: top;\n    }\n\n    .dataframe thead th {\n        text-align: right;\n    }\n</style>\n<table border=\"1\" class=\"dataframe\">\n  <thead>\n    <tr style=\"text-align: right;\">\n      <th></th>\n      <th>type</th>\n      <th>title</th>\n      <th>director</th>\n      <th>cast</th>\n      <th>country</th>\n      <th>date_added</th>\n      <th>release_year</th>\n      <th>rating</th>\n      <th>duration</th>\n      <th>listed_in</th>\n      <th>description</th>\n    </tr>\n    <tr>\n      <th>show_id</th>\n      <th></th>\n      <th></th>\n      <th></th>\n      <th></th>\n      <th></th>\n      <th></th>\n      <th></th>\n      <th></th>\n      <th></th>\n      <th></th>\n      <th></th>\n    </tr>\n  </thead>\n  <tbody>\n    <tr>\n      <th>s1</th>\n      <td>Movie</td>\n      <td>Dick Johnson Is Dead</td>\n      <td>Kirsten Johnson</td>\n      <td>NaN</td>\n      <td>United States</td>\n      <td>September 25, 2021</td>\n      <td>2020</td>\n      <td>PG-13</td>\n      <td>90 min</td>\n      <td>Documentaries</td>\n      <td>As her father nears the end of his life, filmm...</td>\n    </tr>\n    <tr>\n      <th>s2</th>\n      <td>TV Show</td>\n      <td>Blood &amp; Water</td>\n      <td>NaN</td>\n      <td>Ama Qamata, Khosi Ngema, Gail Mabalane, Thaban...</td>\n      <td>South Africa</td>\n      <td>September 24, 2021</td>\n      <td>2021</td>\n      <td>TV-MA</td>\n      <td>2 Seasons</td>\n      <td>International TV Shows, TV Dramas, TV Mysteries</td>\n      <td>After crossing paths at a party, a Cape Town t...</td>\n    </tr>\n    <tr>\n      <th>s3</th>\n      <td>TV Show</td>\n      <td>Ganglands</td>\n      <td>Julien Leclercq</td>\n      <td>Sami Bouajila, Tracy Gotoas, Samuel Jouy, Nabi...</td>\n      <td>NaN</td>\n      <td>September 24, 2021</td>\n      <td>2021</td>\n      <td>TV-MA</td>\n      <td>1 Season</td>\n      <td>Crime TV Shows, International TV Shows, TV Act...</td>\n      <td>To protect his family from a powerful drug lor...</td>\n    </tr>\n    <tr>\n      <th>s4</th>\n      <td>TV Show</td>\n      <td>Jailbirds New Orleans</td>\n      <td>NaN</td>\n      <td>NaN</td>\n      <td>NaN</td>\n      <td>September 24, 2021</td>\n      <td>2021</td>\n      <td>TV-MA</td>\n      <td>1 Season</td>\n      <td>Docuseries, Reality TV</td>\n      <td>Feuds, flirtations and toilet talk go down amo...</td>\n    </tr>\n    <tr>\n      <th>s5</th>\n      <td>TV Show</td>\n      <td>Kota Factory</td>\n      <td>NaN</td>\n      <td>Mayur More, Jitendra Kumar, Ranjan Raj, Alam K...</td>\n      <td>India</td>\n      <td>September 24, 2021</td>\n      <td>2021</td>\n      <td>TV-MA</td>\n      <td>2 Seasons</td>\n      <td>International TV Shows, Romantic TV Shows, TV ...</td>\n      <td>In a city of coaching centers known to train I...</td>\n    </tr>\n  </tbody>\n</table>\n</div>"
     },
     "execution_count": 1,
     "metadata": {},
     "output_type": "execute_result"
    }
   ],
   "source": [
    "import pandas as pd \n",
    "netflix_data = pd.read_csv('data/netflix_dataset.csv', index_col=0)\n",
    "netflix_data.head()"
   ]
  },
  {
   "cell_type": "markdown",
   "id": "rolled-cleveland",
   "metadata": {
    "pycharm": {
     "name": "#%% md\n"
    }
   },
   "source": [
    "[Source of dataset](https://www.kaggle.com/shivamb/netflix-shows)."
   ]
  },
  {
   "cell_type": "code",
   "execution_count": 2,
   "id": "3aa82d37-397c-4cfb-8c61-cccc2f48317b",
   "metadata": {
    "pycharm": {
     "name": "#%%\n"
    }
   },
   "outputs": [
    {
     "data": {
      "text/plain": [
       "Index(['type', 'title', 'director', 'cast', 'country', 'date_added',\n",
       "       'release_year', 'rating', 'duration', 'listed_in', 'description'],\n",
       "      dtype='object')"
      ]
     },
     "execution_count": 2,
     "metadata": {},
     "output_type": "execute_result"
    }
   ],
   "source": [
    "netflix_data.columns"
   ]
  },
  {
   "cell_type": "code",
   "execution_count": 2,
   "id": "9fe1f354",
   "metadata": {
    "pycharm": {
     "name": "#%%\n"
    }
   },
   "outputs": [
    {
     "data": {
      "text/plain": "(8807, 11)"
     },
     "execution_count": 2,
     "metadata": {},
     "output_type": "execute_result"
    }
   ],
   "source": [
    "netflix_data.shape"
   ]
  },
  {
   "cell_type": "code",
   "execution_count": null,
   "id": "8668482d",
   "metadata": {
    "pycharm": {
     "name": "#%%\n"
    }
   },
   "outputs": [],
   "source": []
  },
  {
   "cell_type": "code",
   "execution_count": 4,
   "id": "253fe7f6",
   "metadata": {
    "pycharm": {
     "name": "#%%\n"
    }
   },
   "outputs": [
    {
     "data": {
      "text/plain": [
       "'To protect his family from a powerful drug lord, skilled thief Mehdi and his expert team of robbers are pulled into a violent and deadly turf war.'"
      ]
     },
     "execution_count": 4,
     "metadata": {},
     "output_type": "execute_result"
    }
   ],
   "source": [
    "netflix_data.description[2]"
   ]
  },
  {
   "cell_type": "code",
   "execution_count": 2,
   "id": "d9521ee9-aa37-46dc-88c5-7958f5be68ce",
   "metadata": {
    "pycharm": {
     "name": "#%%\n"
    }
   },
   "outputs": [
    {
     "data": {
      "text/plain": "                         title  \\\nshow_id                          \ns1        Dick Johnson Is Dead   \ns2               Blood & Water   \ns3                   Ganglands   \ns4       Jailbirds New Orleans   \ns5                Kota Factory   \n\n                                               description  \nshow_id                                                     \ns1       As her father nears the end of his life, filmm...  \ns2       After crossing paths at a party, a Cape Town t...  \ns3       To protect his family from a powerful drug lor...  \ns4       Feuds, flirtations and toilet talk go down amo...  \ns5       In a city of coaching centers known to train I...  ",
      "text/html": "<div>\n<style scoped>\n    .dataframe tbody tr th:only-of-type {\n        vertical-align: middle;\n    }\n\n    .dataframe tbody tr th {\n        vertical-align: top;\n    }\n\n    .dataframe thead th {\n        text-align: right;\n    }\n</style>\n<table border=\"1\" class=\"dataframe\">\n  <thead>\n    <tr style=\"text-align: right;\">\n      <th></th>\n      <th>title</th>\n      <th>description</th>\n    </tr>\n    <tr>\n      <th>show_id</th>\n      <th></th>\n      <th></th>\n    </tr>\n  </thead>\n  <tbody>\n    <tr>\n      <th>s1</th>\n      <td>Dick Johnson Is Dead</td>\n      <td>As her father nears the end of his life, filmm...</td>\n    </tr>\n    <tr>\n      <th>s2</th>\n      <td>Blood &amp; Water</td>\n      <td>After crossing paths at a party, a Cape Town t...</td>\n    </tr>\n    <tr>\n      <th>s3</th>\n      <td>Ganglands</td>\n      <td>To protect his family from a powerful drug lor...</td>\n    </tr>\n    <tr>\n      <th>s4</th>\n      <td>Jailbirds New Orleans</td>\n      <td>Feuds, flirtations and toilet talk go down amo...</td>\n    </tr>\n    <tr>\n      <th>s5</th>\n      <td>Kota Factory</td>\n      <td>In a city of coaching centers known to train I...</td>\n    </tr>\n  </tbody>\n</table>\n</div>"
     },
     "execution_count": 2,
     "metadata": {},
     "output_type": "execute_result"
    }
   ],
   "source": [
    "netflix_data_copy = netflix_data.copy()\n",
    "netflix_data_copy = netflix_data_copy[[\"title\", \"description\"]]\n",
    "netflix_data_copy.head()"
   ]
  },
  {
   "cell_type": "code",
   "execution_count": 3,
   "id": "a7086ae5-aca8-4347-979f-719ad1ffec8f",
   "metadata": {
    "pycharm": {
     "name": "#%%\n"
    }
   },
   "outputs": [],
   "source": [
    "import re\n",
    "\n",
    "def cleaning(s):\n",
    "    s = str(s)\n",
    "    s = s.lower()\n",
    "    s = re.sub('[^a-zA-Z]', ' ', s)\n",
    "    return s"
   ]
  },
  {
   "cell_type": "code",
   "execution_count": 4,
   "id": "f3e2e496-da8b-4080-abeb-6aac0662bb10",
   "metadata": {
    "pycharm": {
     "name": "#%%\n"
    }
   },
   "outputs": [],
   "source": [
    "netflix_data_copy['clean_desc'] = netflix_data_copy['description'].apply(cleaning)"
   ]
  },
  {
   "cell_type": "code",
   "execution_count": 5,
   "id": "18dfe7d4-020a-4f92-87eb-d46a1628050b",
   "metadata": {
    "pycharm": {
     "name": "#%%\n"
    }
   },
   "outputs": [
    {
     "data": {
      "text/plain": "                         title  \\\nshow_id                          \ns1        Dick Johnson Is Dead   \ns2               Blood & Water   \ns3                   Ganglands   \ns4       Jailbirds New Orleans   \ns5                Kota Factory   \n\n                                               description  \\\nshow_id                                                      \ns1       As her father nears the end of his life, filmm...   \ns2       After crossing paths at a party, a Cape Town t...   \ns3       To protect his family from a powerful drug lor...   \ns4       Feuds, flirtations and toilet talk go down amo...   \ns5       In a city of coaching centers known to train I...   \n\n                                                clean_desc  \nshow_id                                                     \ns1       as her father nears the end of his life  filmm...  \ns2       after crossing paths at a party  a cape town t...  \ns3       to protect his family from a powerful drug lor...  \ns4       feuds  flirtations and toilet talk go down amo...  \ns5       in a city of coaching centers known to train i...  ",
      "text/html": "<div>\n<style scoped>\n    .dataframe tbody tr th:only-of-type {\n        vertical-align: middle;\n    }\n\n    .dataframe tbody tr th {\n        vertical-align: top;\n    }\n\n    .dataframe thead th {\n        text-align: right;\n    }\n</style>\n<table border=\"1\" class=\"dataframe\">\n  <thead>\n    <tr style=\"text-align: right;\">\n      <th></th>\n      <th>title</th>\n      <th>description</th>\n      <th>clean_desc</th>\n    </tr>\n    <tr>\n      <th>show_id</th>\n      <th></th>\n      <th></th>\n      <th></th>\n    </tr>\n  </thead>\n  <tbody>\n    <tr>\n      <th>s1</th>\n      <td>Dick Johnson Is Dead</td>\n      <td>As her father nears the end of his life, filmm...</td>\n      <td>as her father nears the end of his life  filmm...</td>\n    </tr>\n    <tr>\n      <th>s2</th>\n      <td>Blood &amp; Water</td>\n      <td>After crossing paths at a party, a Cape Town t...</td>\n      <td>after crossing paths at a party  a cape town t...</td>\n    </tr>\n    <tr>\n      <th>s3</th>\n      <td>Ganglands</td>\n      <td>To protect his family from a powerful drug lor...</td>\n      <td>to protect his family from a powerful drug lor...</td>\n    </tr>\n    <tr>\n      <th>s4</th>\n      <td>Jailbirds New Orleans</td>\n      <td>Feuds, flirtations and toilet talk go down amo...</td>\n      <td>feuds  flirtations and toilet talk go down amo...</td>\n    </tr>\n    <tr>\n      <th>s5</th>\n      <td>Kota Factory</td>\n      <td>In a city of coaching centers known to train I...</td>\n      <td>in a city of coaching centers known to train i...</td>\n    </tr>\n  </tbody>\n</table>\n</div>"
     },
     "execution_count": 5,
     "metadata": {},
     "output_type": "execute_result"
    }
   ],
   "source": [
    "netflix_data_copy.head()"
   ]
  },
  {
   "cell_type": "code",
   "execution_count": 6,
   "id": "cb07a787-2c4a-490b-a7d5-e4dd8f92f5d5",
   "metadata": {
    "pycharm": {
     "name": "#%%\n"
    }
   },
   "outputs": [],
   "source": [
    "import nltk"
   ]
  },
  {
   "cell_type": "code",
   "execution_count": 8,
   "id": "c011006b-b0d8-4d8c-8329-2723be604741",
   "metadata": {
    "pycharm": {
     "name": "#%%\n"
    }
   },
   "outputs": [
    {
     "name": "stderr",
     "output_type": "stream",
     "text": [
      "[nltk_data] Downloading package stopwords to\n",
      "[nltk_data]     C:\\Users\\HP\\AppData\\Roaming\\nltk_data...\n",
      "[nltk_data]   Package stopwords is already up-to-date!\n"
     ]
    },
    {
     "data": {
      "text/plain": "True"
     },
     "execution_count": 8,
     "metadata": {},
     "output_type": "execute_result"
    }
   ],
   "source": [
    "nltk.download('stopwords')"
   ]
  },
  {
   "cell_type": "code",
   "execution_count": 9,
   "id": "122a93e9-bf41-440b-aeb2-6bc2af82d980",
   "metadata": {
    "pycharm": {
     "name": "#%%\n"
    }
   },
   "outputs": [
    {
     "name": "stderr",
     "output_type": "stream",
     "text": [
      "[nltk_data] Downloading package punkt to\n",
      "[nltk_data]     C:\\Users\\HP\\AppData\\Roaming\\nltk_data...\n",
      "[nltk_data]   Package punkt is already up-to-date!\n"
     ]
    },
    {
     "data": {
      "text/plain": "True"
     },
     "execution_count": 9,
     "metadata": {},
     "output_type": "execute_result"
    }
   ],
   "source": [
    "nltk.download('punkt')"
   ]
  },
  {
   "cell_type": "code",
   "execution_count": 7,
   "id": "dd1b2e3d-abcd-4bce-b368-ad61032ed4f1",
   "metadata": {
    "pycharm": {
     "name": "#%%\n"
    }
   },
   "outputs": [],
   "source": [
    "from nltk.tokenize import word_tokenize\n",
    "from nltk.corpus import stopwords"
   ]
  },
  {
   "cell_type": "code",
   "execution_count": 8,
   "id": "e084f123-f3b6-4642-bf85-b302de447995",
   "metadata": {
    "pycharm": {
     "name": "#%%\n"
    }
   },
   "outputs": [],
   "source": [
    "netflix_data_copy['clean_desc'] = netflix_data_copy['clean_desc'].apply(word_tokenize)\n",
    "netflix_data_copy['clean_desc'] = netflix_data_copy['clean_desc'].apply(\n",
    "    lambda x:[word for word in x if word not in set(stopwords.words('english'))]\n",
    ")"
   ]
  },
  {
   "cell_type": "code",
   "execution_count": 9,
   "id": "33cb4ed0-6f47-4573-ad67-9a7dfb67f8de",
   "metadata": {
    "pycharm": {
     "name": "#%%\n"
    }
   },
   "outputs": [],
   "source": [
    "netflix_data_copy['clean_desc'] = netflix_data_copy['clean_desc'].apply(lambda x: ' '.join(x))"
   ]
  },
  {
   "cell_type": "code",
   "execution_count": 10,
   "id": "452f7c00-b36e-47bd-b028-2c4cafd80ac8",
   "metadata": {
    "pycharm": {
     "name": "#%%\n"
    }
   },
   "outputs": [
    {
     "data": {
      "text/plain": "                         title  \\\nshow_id                          \ns1        Dick Johnson Is Dead   \ns2               Blood & Water   \ns3                   Ganglands   \ns4       Jailbirds New Orleans   \ns5                Kota Factory   \n\n                                               description  \\\nshow_id                                                      \ns1       As her father nears the end of his life, filmm...   \ns2       After crossing paths at a party, a Cape Town t...   \ns3       To protect his family from a powerful drug lor...   \ns4       Feuds, flirtations and toilet talk go down amo...   \ns5       In a city of coaching centers known to train I...   \n\n                                                clean_desc  \nshow_id                                                     \ns1       father nears end life filmmaker kirsten johnso...  \ns2       crossing paths party cape town teen sets prove...  \ns3       protect family powerful drug lord skilled thie...  \ns4       feuds flirtations toilet talk go among incarce...  \ns5       city coaching centers known train india finest...  ",
      "text/html": "<div>\n<style scoped>\n    .dataframe tbody tr th:only-of-type {\n        vertical-align: middle;\n    }\n\n    .dataframe tbody tr th {\n        vertical-align: top;\n    }\n\n    .dataframe thead th {\n        text-align: right;\n    }\n</style>\n<table border=\"1\" class=\"dataframe\">\n  <thead>\n    <tr style=\"text-align: right;\">\n      <th></th>\n      <th>title</th>\n      <th>description</th>\n      <th>clean_desc</th>\n    </tr>\n    <tr>\n      <th>show_id</th>\n      <th></th>\n      <th></th>\n      <th></th>\n    </tr>\n  </thead>\n  <tbody>\n    <tr>\n      <th>s1</th>\n      <td>Dick Johnson Is Dead</td>\n      <td>As her father nears the end of his life, filmm...</td>\n      <td>father nears end life filmmaker kirsten johnso...</td>\n    </tr>\n    <tr>\n      <th>s2</th>\n      <td>Blood &amp; Water</td>\n      <td>After crossing paths at a party, a Cape Town t...</td>\n      <td>crossing paths party cape town teen sets prove...</td>\n    </tr>\n    <tr>\n      <th>s3</th>\n      <td>Ganglands</td>\n      <td>To protect his family from a powerful drug lor...</td>\n      <td>protect family powerful drug lord skilled thie...</td>\n    </tr>\n    <tr>\n      <th>s4</th>\n      <td>Jailbirds New Orleans</td>\n      <td>Feuds, flirtations and toilet talk go down amo...</td>\n      <td>feuds flirtations toilet talk go among incarce...</td>\n    </tr>\n    <tr>\n      <th>s5</th>\n      <td>Kota Factory</td>\n      <td>In a city of coaching centers known to train I...</td>\n      <td>city coaching centers known train india finest...</td>\n    </tr>\n  </tbody>\n</table>\n</div>"
     },
     "execution_count": 10,
     "metadata": {},
     "output_type": "execute_result"
    }
   ],
   "source": [
    "netflix_data_copy.head()"
   ]
  },
  {
   "cell_type": "code",
   "execution_count": 11,
   "id": "91eea99c",
   "metadata": {
    "pycharm": {
     "name": "#%%\n"
    }
   },
   "outputs": [
    {
     "data": {
      "text/plain": "'protect family powerful drug lord skilled thief mehdi expert team robbers pulled violent deadly turf war'"
     },
     "execution_count": 11,
     "metadata": {},
     "output_type": "execute_result"
    }
   ],
   "source": [
    "netflix_data_copy.clean_desc[2]"
   ]
  },
  {
   "cell_type": "code",
   "execution_count": 12,
   "id": "d8407fa5-7ae5-4401-b741-a5444048b632",
   "metadata": {
    "pycharm": {
     "name": "#%%\n"
    }
   },
   "outputs": [],
   "source": [
    "from sklearn.feature_extraction.text import TfidfVectorizer"
   ]
  },
  {
   "cell_type": "code",
   "execution_count": 13,
   "id": "9f7cc844-6181-4a4e-bd94-021ebfd00e08",
   "metadata": {
    "pycharm": {
     "name": "#%%\n"
    }
   },
   "outputs": [],
   "source": [
    "tfidf = TfidfVectorizer(min_df = 2, max_df = 0.7)\n",
    "\n",
    "X = tfidf.fit_transform(netflix_data_copy['clean_desc'])\n",
    "\n",
    "# print(tfidf.get_feature_names())"
   ]
  },
  {
   "cell_type": "code",
   "execution_count": 17,
   "id": "5729e392-3f97-4486-929d-c2ff27f5da9d",
   "metadata": {
    "pycharm": {
     "name": "#%%\n"
    }
   },
   "outputs": [],
   "source": [
    "import pandas as pd"
   ]
  },
  {
   "cell_type": "code",
   "execution_count": 14,
   "id": "5d5e5391-897c-4545-b8dd-1b6df5215b9d",
   "metadata": {
    "pycharm": {
     "name": "#%%\n"
    }
   },
   "outputs": [
    {
     "name": "stderr",
     "output_type": "stream",
     "text": [
      "D:\\netflix_movie_recommendation\\netflix_venv\\lib\\site-packages\\sklearn\\utils\\deprecation.py:87: FutureWarning: Function get_feature_names is deprecated; get_feature_names is deprecated in 1.0 and will be removed in 1.2. Please use get_feature_names_out instead.\n",
      "  warnings.warn(msg, category=FutureWarning)\n"
     ]
    },
    {
     "data": {
      "text/plain": "                       aamir  aaron  abandoned  abandons  abbey  abduct  \\\ntitle                                                                     \nDick Johnson Is Dead     0.0    0.0        0.0       0.0    0.0     0.0   \nBlood & Water            0.0    0.0        0.0       0.0    0.0     0.0   \nGanglands                0.0    0.0        0.0       0.0    0.0     0.0   \nJailbirds New Orleans    0.0    0.0        0.0       0.0    0.0     0.0   \nKota Factory             0.0    0.0        0.0       0.0    0.0     0.0   \n\n                       abducted  abduction  abductors  abducts  ...  zero  \\\ntitle                                                           ...         \nDick Johnson Is Dead   0.000000        0.0        0.0      0.0  ...   0.0   \nBlood & Water          0.285528        0.0        0.0      0.0  ...   0.0   \nGanglands              0.000000        0.0        0.0      0.0  ...   0.0   \nJailbirds New Orleans  0.000000        0.0        0.0      0.0  ...   0.0   \nKota Factory           0.000000        0.0        0.0      0.0  ...   0.0   \n\n                       zion  zip  zodiac  zoe  zombie  zombies  zone  zoo  \\\ntitle                                                                       \nDick Johnson Is Dead    0.0  0.0     0.0  0.0     0.0      0.0   0.0  0.0   \nBlood & Water           0.0  0.0     0.0  0.0     0.0      0.0   0.0  0.0   \nGanglands               0.0  0.0     0.0  0.0     0.0      0.0   0.0  0.0   \nJailbirds New Orleans   0.0  0.0     0.0  0.0     0.0      0.0   0.0  0.0   \nKota Factory            0.0  0.0     0.0  0.0     0.0      0.0   0.0  0.0   \n\n                       zoom  \ntitle                        \nDick Johnson Is Dead    0.0  \nBlood & Water           0.0  \nGanglands               0.0  \nJailbirds New Orleans   0.0  \nKota Factory            0.0  \n\n[5 rows x 9904 columns]",
      "text/html": "<div>\n<style scoped>\n    .dataframe tbody tr th:only-of-type {\n        vertical-align: middle;\n    }\n\n    .dataframe tbody tr th {\n        vertical-align: top;\n    }\n\n    .dataframe thead th {\n        text-align: right;\n    }\n</style>\n<table border=\"1\" class=\"dataframe\">\n  <thead>\n    <tr style=\"text-align: right;\">\n      <th></th>\n      <th>aamir</th>\n      <th>aaron</th>\n      <th>abandoned</th>\n      <th>abandons</th>\n      <th>abbey</th>\n      <th>abduct</th>\n      <th>abducted</th>\n      <th>abduction</th>\n      <th>abductors</th>\n      <th>abducts</th>\n      <th>...</th>\n      <th>zero</th>\n      <th>zion</th>\n      <th>zip</th>\n      <th>zodiac</th>\n      <th>zoe</th>\n      <th>zombie</th>\n      <th>zombies</th>\n      <th>zone</th>\n      <th>zoo</th>\n      <th>zoom</th>\n    </tr>\n    <tr>\n      <th>title</th>\n      <th></th>\n      <th></th>\n      <th></th>\n      <th></th>\n      <th></th>\n      <th></th>\n      <th></th>\n      <th></th>\n      <th></th>\n      <th></th>\n      <th></th>\n      <th></th>\n      <th></th>\n      <th></th>\n      <th></th>\n      <th></th>\n      <th></th>\n      <th></th>\n      <th></th>\n      <th></th>\n      <th></th>\n    </tr>\n  </thead>\n  <tbody>\n    <tr>\n      <th>Dick Johnson Is Dead</th>\n      <td>0.0</td>\n      <td>0.0</td>\n      <td>0.0</td>\n      <td>0.0</td>\n      <td>0.0</td>\n      <td>0.0</td>\n      <td>0.000000</td>\n      <td>0.0</td>\n      <td>0.0</td>\n      <td>0.0</td>\n      <td>...</td>\n      <td>0.0</td>\n      <td>0.0</td>\n      <td>0.0</td>\n      <td>0.0</td>\n      <td>0.0</td>\n      <td>0.0</td>\n      <td>0.0</td>\n      <td>0.0</td>\n      <td>0.0</td>\n      <td>0.0</td>\n    </tr>\n    <tr>\n      <th>Blood &amp; Water</th>\n      <td>0.0</td>\n      <td>0.0</td>\n      <td>0.0</td>\n      <td>0.0</td>\n      <td>0.0</td>\n      <td>0.0</td>\n      <td>0.285528</td>\n      <td>0.0</td>\n      <td>0.0</td>\n      <td>0.0</td>\n      <td>...</td>\n      <td>0.0</td>\n      <td>0.0</td>\n      <td>0.0</td>\n      <td>0.0</td>\n      <td>0.0</td>\n      <td>0.0</td>\n      <td>0.0</td>\n      <td>0.0</td>\n      <td>0.0</td>\n      <td>0.0</td>\n    </tr>\n    <tr>\n      <th>Ganglands</th>\n      <td>0.0</td>\n      <td>0.0</td>\n      <td>0.0</td>\n      <td>0.0</td>\n      <td>0.0</td>\n      <td>0.0</td>\n      <td>0.000000</td>\n      <td>0.0</td>\n      <td>0.0</td>\n      <td>0.0</td>\n      <td>...</td>\n      <td>0.0</td>\n      <td>0.0</td>\n      <td>0.0</td>\n      <td>0.0</td>\n      <td>0.0</td>\n      <td>0.0</td>\n      <td>0.0</td>\n      <td>0.0</td>\n      <td>0.0</td>\n      <td>0.0</td>\n    </tr>\n    <tr>\n      <th>Jailbirds New Orleans</th>\n      <td>0.0</td>\n      <td>0.0</td>\n      <td>0.0</td>\n      <td>0.0</td>\n      <td>0.0</td>\n      <td>0.0</td>\n      <td>0.000000</td>\n      <td>0.0</td>\n      <td>0.0</td>\n      <td>0.0</td>\n      <td>...</td>\n      <td>0.0</td>\n      <td>0.0</td>\n      <td>0.0</td>\n      <td>0.0</td>\n      <td>0.0</td>\n      <td>0.0</td>\n      <td>0.0</td>\n      <td>0.0</td>\n      <td>0.0</td>\n      <td>0.0</td>\n    </tr>\n    <tr>\n      <th>Kota Factory</th>\n      <td>0.0</td>\n      <td>0.0</td>\n      <td>0.0</td>\n      <td>0.0</td>\n      <td>0.0</td>\n      <td>0.0</td>\n      <td>0.000000</td>\n      <td>0.0</td>\n      <td>0.0</td>\n      <td>0.0</td>\n      <td>...</td>\n      <td>0.0</td>\n      <td>0.0</td>\n      <td>0.0</td>\n      <td>0.0</td>\n      <td>0.0</td>\n      <td>0.0</td>\n      <td>0.0</td>\n      <td>0.0</td>\n      <td>0.0</td>\n      <td>0.0</td>\n    </tr>\n  </tbody>\n</table>\n<p>5 rows × 9904 columns</p>\n</div>"
     },
     "execution_count": 14,
     "metadata": {},
     "output_type": "execute_result"
    }
   ],
   "source": [
    "tfidf_df = pd.DataFrame(X.toarray(), columns = tfidf.get_feature_names())\n",
    "\n",
    "tfidf_df.index = netflix_data_copy['title']\n",
    "\n",
    "tfidf_df.head()"
   ]
  },
  {
   "cell_type": "code",
   "execution_count": 15,
   "outputs": [],
   "source": [
    "tfidf_df.to_csv(\"data/tfidf_data.csv\")"
   ],
   "metadata": {
    "collapsed": false,
    "pycharm": {
     "name": "#%%\n"
    }
   }
  },
  {
   "cell_type": "code",
   "execution_count": 16,
   "outputs": [
    {
     "data": {
      "text/plain": "                       aamir  aaron  abandoned  abandons  abbey  abduct  \\\ntitle                                                                     \nDick Johnson Is Dead     0.0    0.0        0.0       0.0    0.0     0.0   \nBlood & Water            0.0    0.0        0.0       0.0    0.0     0.0   \nGanglands                0.0    0.0        0.0       0.0    0.0     0.0   \nJailbirds New Orleans    0.0    0.0        0.0       0.0    0.0     0.0   \nKota Factory             0.0    0.0        0.0       0.0    0.0     0.0   \n\n                       abducted  abduction  abductors  abducts  ...  zero  \\\ntitle                                                           ...         \nDick Johnson Is Dead   0.000000        0.0        0.0      0.0  ...   0.0   \nBlood & Water          0.285528        0.0        0.0      0.0  ...   0.0   \nGanglands              0.000000        0.0        0.0      0.0  ...   0.0   \nJailbirds New Orleans  0.000000        0.0        0.0      0.0  ...   0.0   \nKota Factory           0.000000        0.0        0.0      0.0  ...   0.0   \n\n                       zion  zip  zodiac  zoe  zombie  zombies  zone  zoo  \\\ntitle                                                                       \nDick Johnson Is Dead    0.0  0.0     0.0  0.0     0.0      0.0   0.0  0.0   \nBlood & Water           0.0  0.0     0.0  0.0     0.0      0.0   0.0  0.0   \nGanglands               0.0  0.0     0.0  0.0     0.0      0.0   0.0  0.0   \nJailbirds New Orleans   0.0  0.0     0.0  0.0     0.0      0.0   0.0  0.0   \nKota Factory            0.0  0.0     0.0  0.0     0.0      0.0   0.0  0.0   \n\n                       zoom  \ntitle                        \nDick Johnson Is Dead    0.0  \nBlood & Water           0.0  \nGanglands               0.0  \nJailbirds New Orleans   0.0  \nKota Factory            0.0  \n\n[5 rows x 9904 columns]",
      "text/html": "<div>\n<style scoped>\n    .dataframe tbody tr th:only-of-type {\n        vertical-align: middle;\n    }\n\n    .dataframe tbody tr th {\n        vertical-align: top;\n    }\n\n    .dataframe thead th {\n        text-align: right;\n    }\n</style>\n<table border=\"1\" class=\"dataframe\">\n  <thead>\n    <tr style=\"text-align: right;\">\n      <th></th>\n      <th>aamir</th>\n      <th>aaron</th>\n      <th>abandoned</th>\n      <th>abandons</th>\n      <th>abbey</th>\n      <th>abduct</th>\n      <th>abducted</th>\n      <th>abduction</th>\n      <th>abductors</th>\n      <th>abducts</th>\n      <th>...</th>\n      <th>zero</th>\n      <th>zion</th>\n      <th>zip</th>\n      <th>zodiac</th>\n      <th>zoe</th>\n      <th>zombie</th>\n      <th>zombies</th>\n      <th>zone</th>\n      <th>zoo</th>\n      <th>zoom</th>\n    </tr>\n    <tr>\n      <th>title</th>\n      <th></th>\n      <th></th>\n      <th></th>\n      <th></th>\n      <th></th>\n      <th></th>\n      <th></th>\n      <th></th>\n      <th></th>\n      <th></th>\n      <th></th>\n      <th></th>\n      <th></th>\n      <th></th>\n      <th></th>\n      <th></th>\n      <th></th>\n      <th></th>\n      <th></th>\n      <th></th>\n      <th></th>\n    </tr>\n  </thead>\n  <tbody>\n    <tr>\n      <th>Dick Johnson Is Dead</th>\n      <td>0.0</td>\n      <td>0.0</td>\n      <td>0.0</td>\n      <td>0.0</td>\n      <td>0.0</td>\n      <td>0.0</td>\n      <td>0.000000</td>\n      <td>0.0</td>\n      <td>0.0</td>\n      <td>0.0</td>\n      <td>...</td>\n      <td>0.0</td>\n      <td>0.0</td>\n      <td>0.0</td>\n      <td>0.0</td>\n      <td>0.0</td>\n      <td>0.0</td>\n      <td>0.0</td>\n      <td>0.0</td>\n      <td>0.0</td>\n      <td>0.0</td>\n    </tr>\n    <tr>\n      <th>Blood &amp; Water</th>\n      <td>0.0</td>\n      <td>0.0</td>\n      <td>0.0</td>\n      <td>0.0</td>\n      <td>0.0</td>\n      <td>0.0</td>\n      <td>0.285528</td>\n      <td>0.0</td>\n      <td>0.0</td>\n      <td>0.0</td>\n      <td>...</td>\n      <td>0.0</td>\n      <td>0.0</td>\n      <td>0.0</td>\n      <td>0.0</td>\n      <td>0.0</td>\n      <td>0.0</td>\n      <td>0.0</td>\n      <td>0.0</td>\n      <td>0.0</td>\n      <td>0.0</td>\n    </tr>\n    <tr>\n      <th>Ganglands</th>\n      <td>0.0</td>\n      <td>0.0</td>\n      <td>0.0</td>\n      <td>0.0</td>\n      <td>0.0</td>\n      <td>0.0</td>\n      <td>0.000000</td>\n      <td>0.0</td>\n      <td>0.0</td>\n      <td>0.0</td>\n      <td>...</td>\n      <td>0.0</td>\n      <td>0.0</td>\n      <td>0.0</td>\n      <td>0.0</td>\n      <td>0.0</td>\n      <td>0.0</td>\n      <td>0.0</td>\n      <td>0.0</td>\n      <td>0.0</td>\n      <td>0.0</td>\n    </tr>\n    <tr>\n      <th>Jailbirds New Orleans</th>\n      <td>0.0</td>\n      <td>0.0</td>\n      <td>0.0</td>\n      <td>0.0</td>\n      <td>0.0</td>\n      <td>0.0</td>\n      <td>0.000000</td>\n      <td>0.0</td>\n      <td>0.0</td>\n      <td>0.0</td>\n      <td>...</td>\n      <td>0.0</td>\n      <td>0.0</td>\n      <td>0.0</td>\n      <td>0.0</td>\n      <td>0.0</td>\n      <td>0.0</td>\n      <td>0.0</td>\n      <td>0.0</td>\n      <td>0.0</td>\n      <td>0.0</td>\n    </tr>\n    <tr>\n      <th>Kota Factory</th>\n      <td>0.0</td>\n      <td>0.0</td>\n      <td>0.0</td>\n      <td>0.0</td>\n      <td>0.0</td>\n      <td>0.0</td>\n      <td>0.000000</td>\n      <td>0.0</td>\n      <td>0.0</td>\n      <td>0.0</td>\n      <td>...</td>\n      <td>0.0</td>\n      <td>0.0</td>\n      <td>0.0</td>\n      <td>0.0</td>\n      <td>0.0</td>\n      <td>0.0</td>\n      <td>0.0</td>\n      <td>0.0</td>\n      <td>0.0</td>\n      <td>0.0</td>\n    </tr>\n  </tbody>\n</table>\n<p>5 rows × 9904 columns</p>\n</div>"
     },
     "execution_count": 16,
     "metadata": {},
     "output_type": "execute_result"
    }
   ],
   "source": [
    "tfidf_data = pd.read_csv(\"data/tfidf_data.csv\", index_col=0)\n",
    "tfidf_data.head()"
   ],
   "metadata": {
    "collapsed": false,
    "pycharm": {
     "name": "#%%\n"
    }
   }
  },
  {
   "cell_type": "code",
   "execution_count": 2,
   "outputs": [],
   "source": [
    "import pandas as pd"
   ],
   "metadata": {
    "collapsed": false,
    "pycharm": {
     "name": "#%%\n"
    }
   }
  },
  {
   "cell_type": "code",
   "execution_count": 6,
   "outputs": [
    {
     "data": {
      "text/plain": "                       aamir  aaron  abandoned  abandons  abbey  abduct  \\\ntitle                                                                     \nDick Johnson Is Dead     0.0    0.0        0.0       0.0    0.0     0.0   \nBlood & Water            0.0    0.0        0.0       0.0    0.0     0.0   \nGanglands                0.0    0.0        0.0       0.0    0.0     0.0   \nJailbirds New Orleans    0.0    0.0        0.0       0.0    0.0     0.0   \nKota Factory             0.0    0.0        0.0       0.0    0.0     0.0   \n\n                       abducted  abduction  abductors  abducts  ...  zero  \\\ntitle                                                           ...         \nDick Johnson Is Dead   0.000000        0.0        0.0      0.0  ...   0.0   \nBlood & Water          0.285528        0.0        0.0      0.0  ...   0.0   \nGanglands              0.000000        0.0        0.0      0.0  ...   0.0   \nJailbirds New Orleans  0.000000        0.0        0.0      0.0  ...   0.0   \nKota Factory           0.000000        0.0        0.0      0.0  ...   0.0   \n\n                       zion  zip  zodiac  zoe  zombie  zombies  zone  zoo  \\\ntitle                                                                       \nDick Johnson Is Dead    0.0  0.0     0.0  0.0     0.0      0.0   0.0  0.0   \nBlood & Water           0.0  0.0     0.0  0.0     0.0      0.0   0.0  0.0   \nGanglands               0.0  0.0     0.0  0.0     0.0      0.0   0.0  0.0   \nJailbirds New Orleans   0.0  0.0     0.0  0.0     0.0      0.0   0.0  0.0   \nKota Factory            0.0  0.0     0.0  0.0     0.0      0.0   0.0  0.0   \n\n                       zoom  \ntitle                        \nDick Johnson Is Dead    0.0  \nBlood & Water           0.0  \nGanglands               0.0  \nJailbirds New Orleans   0.0  \nKota Factory            0.0  \n\n[5 rows x 9904 columns]",
      "text/html": "<div>\n<style scoped>\n    .dataframe tbody tr th:only-of-type {\n        vertical-align: middle;\n    }\n\n    .dataframe tbody tr th {\n        vertical-align: top;\n    }\n\n    .dataframe thead th {\n        text-align: right;\n    }\n</style>\n<table border=\"1\" class=\"dataframe\">\n  <thead>\n    <tr style=\"text-align: right;\">\n      <th></th>\n      <th>aamir</th>\n      <th>aaron</th>\n      <th>abandoned</th>\n      <th>abandons</th>\n      <th>abbey</th>\n      <th>abduct</th>\n      <th>abducted</th>\n      <th>abduction</th>\n      <th>abductors</th>\n      <th>abducts</th>\n      <th>...</th>\n      <th>zero</th>\n      <th>zion</th>\n      <th>zip</th>\n      <th>zodiac</th>\n      <th>zoe</th>\n      <th>zombie</th>\n      <th>zombies</th>\n      <th>zone</th>\n      <th>zoo</th>\n      <th>zoom</th>\n    </tr>\n    <tr>\n      <th>title</th>\n      <th></th>\n      <th></th>\n      <th></th>\n      <th></th>\n      <th></th>\n      <th></th>\n      <th></th>\n      <th></th>\n      <th></th>\n      <th></th>\n      <th></th>\n      <th></th>\n      <th></th>\n      <th></th>\n      <th></th>\n      <th></th>\n      <th></th>\n      <th></th>\n      <th></th>\n      <th></th>\n      <th></th>\n    </tr>\n  </thead>\n  <tbody>\n    <tr>\n      <th>Dick Johnson Is Dead</th>\n      <td>0.0</td>\n      <td>0.0</td>\n      <td>0.0</td>\n      <td>0.0</td>\n      <td>0.0</td>\n      <td>0.0</td>\n      <td>0.000000</td>\n      <td>0.0</td>\n      <td>0.0</td>\n      <td>0.0</td>\n      <td>...</td>\n      <td>0.0</td>\n      <td>0.0</td>\n      <td>0.0</td>\n      <td>0.0</td>\n      <td>0.0</td>\n      <td>0.0</td>\n      <td>0.0</td>\n      <td>0.0</td>\n      <td>0.0</td>\n      <td>0.0</td>\n    </tr>\n    <tr>\n      <th>Blood &amp; Water</th>\n      <td>0.0</td>\n      <td>0.0</td>\n      <td>0.0</td>\n      <td>0.0</td>\n      <td>0.0</td>\n      <td>0.0</td>\n      <td>0.285528</td>\n      <td>0.0</td>\n      <td>0.0</td>\n      <td>0.0</td>\n      <td>...</td>\n      <td>0.0</td>\n      <td>0.0</td>\n      <td>0.0</td>\n      <td>0.0</td>\n      <td>0.0</td>\n      <td>0.0</td>\n      <td>0.0</td>\n      <td>0.0</td>\n      <td>0.0</td>\n      <td>0.0</td>\n    </tr>\n    <tr>\n      <th>Ganglands</th>\n      <td>0.0</td>\n      <td>0.0</td>\n      <td>0.0</td>\n      <td>0.0</td>\n      <td>0.0</td>\n      <td>0.0</td>\n      <td>0.000000</td>\n      <td>0.0</td>\n      <td>0.0</td>\n      <td>0.0</td>\n      <td>...</td>\n      <td>0.0</td>\n      <td>0.0</td>\n      <td>0.0</td>\n      <td>0.0</td>\n      <td>0.0</td>\n      <td>0.0</td>\n      <td>0.0</td>\n      <td>0.0</td>\n      <td>0.0</td>\n      <td>0.0</td>\n    </tr>\n    <tr>\n      <th>Jailbirds New Orleans</th>\n      <td>0.0</td>\n      <td>0.0</td>\n      <td>0.0</td>\n      <td>0.0</td>\n      <td>0.0</td>\n      <td>0.0</td>\n      <td>0.000000</td>\n      <td>0.0</td>\n      <td>0.0</td>\n      <td>0.0</td>\n      <td>...</td>\n      <td>0.0</td>\n      <td>0.0</td>\n      <td>0.0</td>\n      <td>0.0</td>\n      <td>0.0</td>\n      <td>0.0</td>\n      <td>0.0</td>\n      <td>0.0</td>\n      <td>0.0</td>\n      <td>0.0</td>\n    </tr>\n    <tr>\n      <th>Kota Factory</th>\n      <td>0.0</td>\n      <td>0.0</td>\n      <td>0.0</td>\n      <td>0.0</td>\n      <td>0.0</td>\n      <td>0.0</td>\n      <td>0.000000</td>\n      <td>0.0</td>\n      <td>0.0</td>\n      <td>0.0</td>\n      <td>...</td>\n      <td>0.0</td>\n      <td>0.0</td>\n      <td>0.0</td>\n      <td>0.0</td>\n      <td>0.0</td>\n      <td>0.0</td>\n      <td>0.0</td>\n      <td>0.0</td>\n      <td>0.0</td>\n      <td>0.0</td>\n    </tr>\n  </tbody>\n</table>\n<p>5 rows × 9904 columns</p>\n</div>"
     },
     "execution_count": 6,
     "metadata": {},
     "output_type": "execute_result"
    }
   ],
   "source": [
    "tfidf_feather = pd.read_feather(\"data/tfidf_data.feather\")\n",
    "tfidf_feather = tfidf_feather.set_index('title')\n",
    "tfidf_feather.head()"
   ],
   "metadata": {
    "collapsed": false,
    "pycharm": {
     "name": "#%%\n"
    }
   }
  },
  {
   "cell_type": "code",
   "execution_count": 21,
   "outputs": [],
   "source": [
    "import pickle\n",
    "with open(\"movie_list.pickle\", \"wb\") as f:\n",
    "   pickle.dump(netflix_data['title'].unique(), f)"
   ],
   "metadata": {
    "collapsed": false,
    "pycharm": {
     "name": "#%%\n"
    }
   }
  },
  {
   "cell_type": "code",
   "execution_count": 18,
   "id": "7ddfc294-2b49-44e4-935a-83b2566a35d8",
   "metadata": {
    "pycharm": {
     "name": "#%%\n"
    }
   },
   "outputs": [],
   "source": [
    "from sklearn.metrics.pairwise import cosine_similarity"
   ]
  },
  {
   "cell_type": "code",
   "execution_count": 19,
   "id": "91679fb2-0a5e-48ef-b584-5186e667396f",
   "metadata": {
    "pycharm": {
     "name": "#%%\n"
    }
   },
   "outputs": [],
   "source": [
    "cosine_similarity_array = cosine_similarity(tfidf_df)"
   ]
  },
  {
   "cell_type": "code",
   "execution_count": 20,
   "id": "f51358e1-dd69-4793-ba07-4a8df777625c",
   "metadata": {
    "pycharm": {
     "name": "#%%\n"
    }
   },
   "outputs": [
    {
     "data": {
      "text/html": [
       "<div>\n",
       "<style scoped>\n",
       "    .dataframe tbody tr th:only-of-type {\n",
       "        vertical-align: middle;\n",
       "    }\n",
       "\n",
       "    .dataframe tbody tr th {\n",
       "        vertical-align: top;\n",
       "    }\n",
       "\n",
       "    .dataframe thead th {\n",
       "        text-align: right;\n",
       "    }\n",
       "</style>\n",
       "<table border=\"1\" class=\"dataframe\">\n",
       "  <thead>\n",
       "    <tr style=\"text-align: right;\">\n",
       "      <th>title</th>\n",
       "      <th>Dick Johnson Is Dead</th>\n",
       "      <th>Blood &amp; Water</th>\n",
       "      <th>Ganglands</th>\n",
       "      <th>Jailbirds New Orleans</th>\n",
       "      <th>Kota Factory</th>\n",
       "      <th>Midnight Mass</th>\n",
       "      <th>My Little Pony: A New Generation</th>\n",
       "      <th>Sankofa</th>\n",
       "      <th>The Great British Baking Show</th>\n",
       "      <th>The Starling</th>\n",
       "      <th>...</th>\n",
       "      <th>Zak Storm</th>\n",
       "      <th>Zed Plus</th>\n",
       "      <th>Zenda</th>\n",
       "      <th>Zindagi Gulzar Hai</th>\n",
       "      <th>Zinzana</th>\n",
       "      <th>Zodiac</th>\n",
       "      <th>Zombie Dumb</th>\n",
       "      <th>Zombieland</th>\n",
       "      <th>Zoom</th>\n",
       "      <th>Zubaan</th>\n",
       "    </tr>\n",
       "    <tr>\n",
       "      <th>title</th>\n",
       "      <th></th>\n",
       "      <th></th>\n",
       "      <th></th>\n",
       "      <th></th>\n",
       "      <th></th>\n",
       "      <th></th>\n",
       "      <th></th>\n",
       "      <th></th>\n",
       "      <th></th>\n",
       "      <th></th>\n",
       "      <th></th>\n",
       "      <th></th>\n",
       "      <th></th>\n",
       "      <th></th>\n",
       "      <th></th>\n",
       "      <th></th>\n",
       "      <th></th>\n",
       "      <th></th>\n",
       "      <th></th>\n",
       "      <th></th>\n",
       "      <th></th>\n",
       "    </tr>\n",
       "  </thead>\n",
       "  <tbody>\n",
       "    <tr>\n",
       "      <th>Dick Johnson Is Dead</th>\n",
       "      <td>1.000000</td>\n",
       "      <td>0.0</td>\n",
       "      <td>0.0</td>\n",
       "      <td>0.0</td>\n",
       "      <td>0.017282</td>\n",
       "      <td>0.000000</td>\n",
       "      <td>0.00000</td>\n",
       "      <td>0.0</td>\n",
       "      <td>0.047362</td>\n",
       "      <td>0.019817</td>\n",
       "      <td>...</td>\n",
       "      <td>0.000000</td>\n",
       "      <td>0.000000</td>\n",
       "      <td>0.000000</td>\n",
       "      <td>0.0</td>\n",
       "      <td>0.000000</td>\n",
       "      <td>0.0</td>\n",
       "      <td>0.000000</td>\n",
       "      <td>0.000000</td>\n",
       "      <td>0.015987</td>\n",
       "      <td>0.000000</td>\n",
       "    </tr>\n",
       "    <tr>\n",
       "      <th>Blood &amp; Water</th>\n",
       "      <td>0.000000</td>\n",
       "      <td>1.0</td>\n",
       "      <td>0.0</td>\n",
       "      <td>0.0</td>\n",
       "      <td>0.000000</td>\n",
       "      <td>0.031762</td>\n",
       "      <td>0.05597</td>\n",
       "      <td>0.0</td>\n",
       "      <td>0.000000</td>\n",
       "      <td>0.000000</td>\n",
       "      <td>...</td>\n",
       "      <td>0.037436</td>\n",
       "      <td>0.033547</td>\n",
       "      <td>0.111135</td>\n",
       "      <td>0.0</td>\n",
       "      <td>0.033345</td>\n",
       "      <td>0.0</td>\n",
       "      <td>0.038512</td>\n",
       "      <td>0.000000</td>\n",
       "      <td>0.000000</td>\n",
       "      <td>0.000000</td>\n",
       "    </tr>\n",
       "    <tr>\n",
       "      <th>Ganglands</th>\n",
       "      <td>0.000000</td>\n",
       "      <td>0.0</td>\n",
       "      <td>1.0</td>\n",
       "      <td>0.0</td>\n",
       "      <td>0.000000</td>\n",
       "      <td>0.000000</td>\n",
       "      <td>0.00000</td>\n",
       "      <td>0.0</td>\n",
       "      <td>0.000000</td>\n",
       "      <td>0.000000</td>\n",
       "      <td>...</td>\n",
       "      <td>0.000000</td>\n",
       "      <td>0.000000</td>\n",
       "      <td>0.000000</td>\n",
       "      <td>0.0</td>\n",
       "      <td>0.000000</td>\n",
       "      <td>0.0</td>\n",
       "      <td>0.000000</td>\n",
       "      <td>0.000000</td>\n",
       "      <td>0.000000</td>\n",
       "      <td>0.022301</td>\n",
       "    </tr>\n",
       "    <tr>\n",
       "      <th>Jailbirds New Orleans</th>\n",
       "      <td>0.000000</td>\n",
       "      <td>0.0</td>\n",
       "      <td>0.0</td>\n",
       "      <td>1.0</td>\n",
       "      <td>0.000000</td>\n",
       "      <td>0.000000</td>\n",
       "      <td>0.00000</td>\n",
       "      <td>0.0</td>\n",
       "      <td>0.000000</td>\n",
       "      <td>0.000000</td>\n",
       "      <td>...</td>\n",
       "      <td>0.000000</td>\n",
       "      <td>0.000000</td>\n",
       "      <td>0.000000</td>\n",
       "      <td>0.0</td>\n",
       "      <td>0.000000</td>\n",
       "      <td>0.0</td>\n",
       "      <td>0.000000</td>\n",
       "      <td>0.000000</td>\n",
       "      <td>0.015281</td>\n",
       "      <td>0.000000</td>\n",
       "    </tr>\n",
       "    <tr>\n",
       "      <th>Kota Factory</th>\n",
       "      <td>0.017282</td>\n",
       "      <td>0.0</td>\n",
       "      <td>0.0</td>\n",
       "      <td>0.0</td>\n",
       "      <td>1.000000</td>\n",
       "      <td>0.000000</td>\n",
       "      <td>0.00000</td>\n",
       "      <td>0.0</td>\n",
       "      <td>0.000000</td>\n",
       "      <td>0.018924</td>\n",
       "      <td>...</td>\n",
       "      <td>0.000000</td>\n",
       "      <td>0.000000</td>\n",
       "      <td>0.000000</td>\n",
       "      <td>0.0</td>\n",
       "      <td>0.000000</td>\n",
       "      <td>0.0</td>\n",
       "      <td>0.000000</td>\n",
       "      <td>0.043587</td>\n",
       "      <td>0.071094</td>\n",
       "      <td>0.000000</td>\n",
       "    </tr>\n",
       "  </tbody>\n",
       "</table>\n",
       "<p>5 rows × 8807 columns</p>\n",
       "</div>"
      ],
      "text/plain": [
       "title                  Dick Johnson Is Dead  Blood & Water  Ganglands  \\\n",
       "title                                                                   \n",
       "Dick Johnson Is Dead               1.000000            0.0        0.0   \n",
       "Blood & Water                      0.000000            1.0        0.0   \n",
       "Ganglands                          0.000000            0.0        1.0   \n",
       "Jailbirds New Orleans              0.000000            0.0        0.0   \n",
       "Kota Factory                       0.017282            0.0        0.0   \n",
       "\n",
       "title                  Jailbirds New Orleans  Kota Factory  Midnight Mass  \\\n",
       "title                                                                       \n",
       "Dick Johnson Is Dead                     0.0      0.017282       0.000000   \n",
       "Blood & Water                            0.0      0.000000       0.031762   \n",
       "Ganglands                                0.0      0.000000       0.000000   \n",
       "Jailbirds New Orleans                    1.0      0.000000       0.000000   \n",
       "Kota Factory                             0.0      1.000000       0.000000   \n",
       "\n",
       "title                  My Little Pony: A New Generation  Sankofa  \\\n",
       "title                                                              \n",
       "Dick Johnson Is Dead                            0.00000      0.0   \n",
       "Blood & Water                                   0.05597      0.0   \n",
       "Ganglands                                       0.00000      0.0   \n",
       "Jailbirds New Orleans                           0.00000      0.0   \n",
       "Kota Factory                                    0.00000      0.0   \n",
       "\n",
       "title                  The Great British Baking Show  The Starling  ...  \\\n",
       "title                                                               ...   \n",
       "Dick Johnson Is Dead                        0.047362      0.019817  ...   \n",
       "Blood & Water                               0.000000      0.000000  ...   \n",
       "Ganglands                                   0.000000      0.000000  ...   \n",
       "Jailbirds New Orleans                       0.000000      0.000000  ...   \n",
       "Kota Factory                                0.000000      0.018924  ...   \n",
       "\n",
       "title                  Zak Storm  Zed Plus     Zenda  Zindagi Gulzar Hai  \\\n",
       "title                                                                      \n",
       "Dick Johnson Is Dead    0.000000  0.000000  0.000000                 0.0   \n",
       "Blood & Water           0.037436  0.033547  0.111135                 0.0   \n",
       "Ganglands               0.000000  0.000000  0.000000                 0.0   \n",
       "Jailbirds New Orleans   0.000000  0.000000  0.000000                 0.0   \n",
       "Kota Factory            0.000000  0.000000  0.000000                 0.0   \n",
       "\n",
       "title                   Zinzana  Zodiac  Zombie Dumb  Zombieland      Zoom  \\\n",
       "title                                                                        \n",
       "Dick Johnson Is Dead   0.000000     0.0     0.000000    0.000000  0.015987   \n",
       "Blood & Water          0.033345     0.0     0.038512    0.000000  0.000000   \n",
       "Ganglands              0.000000     0.0     0.000000    0.000000  0.000000   \n",
       "Jailbirds New Orleans  0.000000     0.0     0.000000    0.000000  0.015281   \n",
       "Kota Factory           0.000000     0.0     0.000000    0.043587  0.071094   \n",
       "\n",
       "title                    Zubaan  \n",
       "title                            \n",
       "Dick Johnson Is Dead   0.000000  \n",
       "Blood & Water          0.000000  \n",
       "Ganglands              0.022301  \n",
       "Jailbirds New Orleans  0.000000  \n",
       "Kota Factory           0.000000  \n",
       "\n",
       "[5 rows x 8807 columns]"
      ]
     },
     "execution_count": 20,
     "metadata": {},
     "output_type": "execute_result"
    }
   ],
   "source": [
    "cosine_similarity_df = pd.DataFrame(cosine_similarity_array, columns = tfidf_df.index, \n",
    "                                    index = tfidf_df.index)\n",
    "\n",
    "cosine_similarity_df.head()"
   ]
  },
  {
   "cell_type": "code",
   "execution_count": 21,
   "id": "e0efb9bc-baa9-457e-9ae9-a37b59e3a0cd",
   "metadata": {
    "pycharm": {
     "name": "#%%\n"
    }
   },
   "outputs": [
    {
     "data": {
      "text/plain": [
       "(8807, 8807)"
      ]
     },
     "execution_count": 21,
     "metadata": {},
     "output_type": "execute_result"
    }
   ],
   "source": [
    "cosine_similarity_df.shape"
   ]
  },
  {
   "cell_type": "code",
   "execution_count": 22,
   "id": "997067a5-e878-4325-90e7-7a7cbb93fcb5",
   "metadata": {
    "pycharm": {
     "name": "#%%\n"
    }
   },
   "outputs": [
    {
     "name": "stdout",
     "output_type": "stream",
     "text": [
      "title\n",
      "Little Singham                    0.225491\n",
      "Tayo the Little Bus               0.221442\n",
      "Bo on the Go!                     0.209406\n",
      "Yoko and His Friends              0.191241\n",
      "Chhota Bheem in African Safari    0.170218\n",
      "Power Rangers Ninja Steel         0.169837\n",
      "Mighty Raju                       0.156825\n",
      "Cinema Bandi                      0.146526\n",
      "Uma Maheswara Ugra Roopasya       0.143172\n",
      "The Letter Reader                 0.139759\n",
      "Name: Chhota Bheem, dtype: float64\n"
     ]
    }
   ],
   "source": [
    "cosine_similarity_series = cosine_similarity_df.loc['Chhota Bheem']\n",
    "\n",
    "ordered_similarities = cosine_similarity_series.sort_values(ascending=False)\n",
    "\n",
    "print(ordered_similarities[1:].head(10))"
   ]
  },
  {
   "cell_type": "code",
   "execution_count": 23,
   "id": "f5a625c0-98c4-4fd8-9c63-48670618dd77",
   "metadata": {
    "pycharm": {
     "name": "#%%\n"
    }
   },
   "outputs": [
    {
     "data": {
      "text/html": [
       "<div>\n",
       "<style scoped>\n",
       "    .dataframe tbody tr th:only-of-type {\n",
       "        vertical-align: middle;\n",
       "    }\n",
       "\n",
       "    .dataframe tbody tr th {\n",
       "        vertical-align: top;\n",
       "    }\n",
       "\n",
       "    .dataframe thead th {\n",
       "        text-align: right;\n",
       "    }\n",
       "</style>\n",
       "<table border=\"1\" class=\"dataframe\">\n",
       "  <thead>\n",
       "    <tr style=\"text-align: right;\">\n",
       "      <th></th>\n",
       "      <th>aamir</th>\n",
       "      <th>aaron</th>\n",
       "      <th>abandoned</th>\n",
       "      <th>abandons</th>\n",
       "      <th>abbey</th>\n",
       "      <th>abduct</th>\n",
       "      <th>abducted</th>\n",
       "      <th>abduction</th>\n",
       "      <th>abductors</th>\n",
       "      <th>abducts</th>\n",
       "      <th>...</th>\n",
       "      <th>zero</th>\n",
       "      <th>zion</th>\n",
       "      <th>zip</th>\n",
       "      <th>zodiac</th>\n",
       "      <th>zoe</th>\n",
       "      <th>zombie</th>\n",
       "      <th>zombies</th>\n",
       "      <th>zone</th>\n",
       "      <th>zoo</th>\n",
       "      <th>zoom</th>\n",
       "    </tr>\n",
       "    <tr>\n",
       "      <th>title</th>\n",
       "      <th></th>\n",
       "      <th></th>\n",
       "      <th></th>\n",
       "      <th></th>\n",
       "      <th></th>\n",
       "      <th></th>\n",
       "      <th></th>\n",
       "      <th></th>\n",
       "      <th></th>\n",
       "      <th></th>\n",
       "      <th></th>\n",
       "      <th></th>\n",
       "      <th></th>\n",
       "      <th></th>\n",
       "      <th></th>\n",
       "      <th></th>\n",
       "      <th></th>\n",
       "      <th></th>\n",
       "      <th></th>\n",
       "      <th></th>\n",
       "      <th></th>\n",
       "    </tr>\n",
       "  </thead>\n",
       "  <tbody>\n",
       "    <tr>\n",
       "      <th>Blood &amp; Water</th>\n",
       "      <td>0.0</td>\n",
       "      <td>0.0</td>\n",
       "      <td>0.0</td>\n",
       "      <td>0.0</td>\n",
       "      <td>0.0</td>\n",
       "      <td>0.0</td>\n",
       "      <td>0.285528</td>\n",
       "      <td>0.0</td>\n",
       "      <td>0.0</td>\n",
       "      <td>0.0</td>\n",
       "      <td>...</td>\n",
       "      <td>0.0</td>\n",
       "      <td>0.0</td>\n",
       "      <td>0.0</td>\n",
       "      <td>0.0</td>\n",
       "      <td>0.0</td>\n",
       "      <td>0.0</td>\n",
       "      <td>0.0</td>\n",
       "      <td>0.0</td>\n",
       "      <td>0.0</td>\n",
       "      <td>0.0</td>\n",
       "    </tr>\n",
       "    <tr>\n",
       "      <th>Chhota Bheem</th>\n",
       "      <td>0.0</td>\n",
       "      <td>0.0</td>\n",
       "      <td>0.0</td>\n",
       "      <td>0.0</td>\n",
       "      <td>0.0</td>\n",
       "      <td>0.0</td>\n",
       "      <td>0.000000</td>\n",
       "      <td>0.0</td>\n",
       "      <td>0.0</td>\n",
       "      <td>0.0</td>\n",
       "      <td>...</td>\n",
       "      <td>0.0</td>\n",
       "      <td>0.0</td>\n",
       "      <td>0.0</td>\n",
       "      <td>0.0</td>\n",
       "      <td>0.0</td>\n",
       "      <td>0.0</td>\n",
       "      <td>0.0</td>\n",
       "      <td>0.0</td>\n",
       "      <td>0.0</td>\n",
       "      <td>0.0</td>\n",
       "    </tr>\n",
       "    <tr>\n",
       "      <th>Mighty Raju</th>\n",
       "      <td>0.0</td>\n",
       "      <td>0.0</td>\n",
       "      <td>0.0</td>\n",
       "      <td>0.0</td>\n",
       "      <td>0.0</td>\n",
       "      <td>0.0</td>\n",
       "      <td>0.000000</td>\n",
       "      <td>0.0</td>\n",
       "      <td>0.0</td>\n",
       "      <td>0.0</td>\n",
       "      <td>...</td>\n",
       "      <td>0.0</td>\n",
       "      <td>0.0</td>\n",
       "      <td>0.0</td>\n",
       "      <td>0.0</td>\n",
       "      <td>0.0</td>\n",
       "      <td>0.0</td>\n",
       "      <td>0.0</td>\n",
       "      <td>0.0</td>\n",
       "      <td>0.0</td>\n",
       "      <td>0.0</td>\n",
       "    </tr>\n",
       "  </tbody>\n",
       "</table>\n",
       "<p>3 rows × 9904 columns</p>\n",
       "</div>"
      ],
      "text/plain": [
       "               aamir  aaron  abandoned  abandons  abbey  abduct  abducted  \\\n",
       "title                                                                       \n",
       "Blood & Water    0.0    0.0        0.0       0.0    0.0     0.0  0.285528   \n",
       "Chhota Bheem     0.0    0.0        0.0       0.0    0.0     0.0  0.000000   \n",
       "Mighty Raju      0.0    0.0        0.0       0.0    0.0     0.0  0.000000   \n",
       "\n",
       "               abduction  abductors  abducts  ...  zero  zion  zip  zodiac  \\\n",
       "title                                         ...                            \n",
       "Blood & Water        0.0        0.0      0.0  ...   0.0   0.0  0.0     0.0   \n",
       "Chhota Bheem         0.0        0.0      0.0  ...   0.0   0.0  0.0     0.0   \n",
       "Mighty Raju          0.0        0.0      0.0  ...   0.0   0.0  0.0     0.0   \n",
       "\n",
       "               zoe  zombie  zombies  zone  zoo  zoom  \n",
       "title                                                 \n",
       "Blood & Water  0.0     0.0      0.0   0.0  0.0   0.0  \n",
       "Chhota Bheem   0.0     0.0      0.0   0.0  0.0   0.0  \n",
       "Mighty Raju    0.0     0.0      0.0   0.0  0.0   0.0  \n",
       "\n",
       "[3 rows x 9904 columns]"
      ]
     },
     "execution_count": 23,
     "metadata": {},
     "output_type": "execute_result"
    }
   ],
   "source": [
    "list_of_movies_enjoyed = [\"Blood & Water\", \"Chhota Bheem\", \"Mighty Raju\"]\n",
    "\n",
    "movie_enjoyed_df = tfidf_df.reindex(list_of_movies_enjoyed)\n",
    "\n",
    "movie_enjoyed_df.head()"
   ]
  },
  {
   "cell_type": "code",
   "execution_count": 24,
   "id": "b6057806",
   "metadata": {
    "pycharm": {
     "name": "#%%\n"
    }
   },
   "outputs": [
    {
     "name": "stdout",
     "output_type": "stream",
     "text": [
      "aamir        0.0\n",
      "aaron        0.0\n",
      "abandoned    0.0\n",
      "abandons     0.0\n",
      "abbey        0.0\n",
      "            ... \n",
      "zombie       0.0\n",
      "zombies      0.0\n",
      "zone         0.0\n",
      "zoo          0.0\n",
      "zoom         0.0\n",
      "Length: 9904, dtype: float64\n"
     ]
    }
   ],
   "source": [
    "user_prof = movie_enjoyed_df.mean()\n",
    "\n",
    "print(user_prof)"
   ]
  },
  {
   "cell_type": "code",
   "execution_count": 25,
   "id": "0e53cf0b",
   "metadata": {
    "pycharm": {
     "name": "#%%\n"
    }
   },
   "outputs": [],
   "source": [
    "from sklearn.metrics.pairwise import cosine_similarity"
   ]
  },
  {
   "cell_type": "code",
   "execution_count": 26,
   "id": "bda16158",
   "metadata": {
    "pycharm": {
     "name": "#%%\n"
    }
   },
   "outputs": [],
   "source": [
    "tfidf_subset_df = tfidf_df.drop(list_of_movies_enjoyed, axis=0)\n",
    "\n",
    "# Calculate the cosine_similarity and wrap it in a DataFrame\n",
    "similarity_array = cosine_similarity(user_prof.values.reshape(1, -1), tfidf_subset_df)\n",
    "similarity_df = pd.DataFrame(similarity_array.T, index=tfidf_subset_df.index, columns=[\"similarity_score\"])\n",
    "\n",
    "# Sort the values from high to low by the values in the similarity_score\n",
    "sorted_similarity_df = similarity_df.sort_values(by=\"similarity_score\", ascending=False)"
   ]
  },
  {
   "cell_type": "code",
   "execution_count": 27,
   "id": "a4861cce",
   "metadata": {
    "pycharm": {
     "name": "#%%\n"
    }
   },
   "outputs": [
    {
     "data": {
      "text/html": [
       "<div>\n",
       "<style scoped>\n",
       "    .dataframe tbody tr th:only-of-type {\n",
       "        vertical-align: middle;\n",
       "    }\n",
       "\n",
       "    .dataframe tbody tr th {\n",
       "        vertical-align: top;\n",
       "    }\n",
       "\n",
       "    .dataframe thead th {\n",
       "        text-align: right;\n",
       "    }\n",
       "</style>\n",
       "<table border=\"1\" class=\"dataframe\">\n",
       "  <thead>\n",
       "    <tr style=\"text-align: right;\">\n",
       "      <th></th>\n",
       "      <th>similarity_score</th>\n",
       "    </tr>\n",
       "    <tr>\n",
       "      <th>title</th>\n",
       "      <th></th>\n",
       "    </tr>\n",
       "  </thead>\n",
       "  <tbody>\n",
       "    <tr>\n",
       "      <th>Power Rangers Ninja Steel</th>\n",
       "      <td>0.203721</td>\n",
       "    </tr>\n",
       "    <tr>\n",
       "      <th>Legacies</th>\n",
       "      <td>0.182585</td>\n",
       "    </tr>\n",
       "    <tr>\n",
       "      <th>Bo on the Go!</th>\n",
       "      <td>0.158947</td>\n",
       "    </tr>\n",
       "    <tr>\n",
       "      <th>Break Ke Baad</th>\n",
       "      <td>0.156441</td>\n",
       "    </tr>\n",
       "    <tr>\n",
       "      <th>Little Singham</th>\n",
       "      <td>0.143889</td>\n",
       "    </tr>\n",
       "    <tr>\n",
       "      <th>Dinotrux Supercharged</th>\n",
       "      <td>0.142970</td>\n",
       "    </tr>\n",
       "    <tr>\n",
       "      <th>Magi: Adventure of Sinbad</th>\n",
       "      <td>0.134618</td>\n",
       "    </tr>\n",
       "    <tr>\n",
       "      <th>Race to Witch Mountain</th>\n",
       "      <td>0.134294</td>\n",
       "    </tr>\n",
       "    <tr>\n",
       "      <th>Tayo the Little Bus</th>\n",
       "      <td>0.121649</td>\n",
       "    </tr>\n",
       "    <tr>\n",
       "      <th>Cyborg 009: Call of Justice</th>\n",
       "      <td>0.120927</td>\n",
       "    </tr>\n",
       "    <tr>\n",
       "      <th>Chhota Bheem in African Safari</th>\n",
       "      <td>0.119129</td>\n",
       "    </tr>\n",
       "    <tr>\n",
       "      <th>The Dream Catchers</th>\n",
       "      <td>0.114855</td>\n",
       "    </tr>\n",
       "    <tr>\n",
       "      <th>Power Rangers Wild Force</th>\n",
       "      <td>0.113492</td>\n",
       "    </tr>\n",
       "    <tr>\n",
       "      <th>Message from the King</th>\n",
       "      <td>0.111140</td>\n",
       "    </tr>\n",
       "    <tr>\n",
       "      <th>Albion: The Enchanted Stallion</th>\n",
       "      <td>0.109272</td>\n",
       "    </tr>\n",
       "  </tbody>\n",
       "</table>\n",
       "</div>"
      ],
      "text/plain": [
       "                                similarity_score\n",
       "title                                           \n",
       "Power Rangers Ninja Steel               0.203721\n",
       "Legacies                                0.182585\n",
       "Bo on the Go!                           0.158947\n",
       "Break Ke Baad                           0.156441\n",
       "Little Singham                          0.143889\n",
       "Dinotrux Supercharged                   0.142970\n",
       "Magi: Adventure of Sinbad               0.134618\n",
       "Race to Witch Mountain                  0.134294\n",
       "Tayo the Little Bus                     0.121649\n",
       "Cyborg 009: Call of Justice             0.120927\n",
       "Chhota Bheem in African Safari          0.119129\n",
       "The Dream Catchers                      0.114855\n",
       "Power Rangers Wild Force                0.113492\n",
       "Message from the King                   0.111140\n",
       "Albion: The Enchanted Stallion          0.109272"
      ]
     },
     "execution_count": 27,
     "metadata": {},
     "output_type": "execute_result"
    }
   ],
   "source": [
    "sorted_similarity_df.head(15)"
   ]
  },
  {
   "cell_type": "code",
   "execution_count": 28,
   "id": "e22c8f41",
   "metadata": {
    "pycharm": {
     "name": "#%%\n"
    }
   },
   "outputs": [
    {
     "data": {
      "text/html": [
       "<div>\n",
       "<style scoped>\n",
       "    .dataframe tbody tr th:only-of-type {\n",
       "        vertical-align: middle;\n",
       "    }\n",
       "\n",
       "    .dataframe tbody tr th {\n",
       "        vertical-align: top;\n",
       "    }\n",
       "\n",
       "    .dataframe thead th {\n",
       "        text-align: right;\n",
       "    }\n",
       "</style>\n",
       "<table border=\"1\" class=\"dataframe\">\n",
       "  <thead>\n",
       "    <tr style=\"text-align: right;\">\n",
       "      <th></th>\n",
       "      <th>title</th>\n",
       "      <th>listed_in</th>\n",
       "    </tr>\n",
       "    <tr>\n",
       "      <th>show_id</th>\n",
       "      <th></th>\n",
       "      <th></th>\n",
       "    </tr>\n",
       "  </thead>\n",
       "  <tbody>\n",
       "    <tr>\n",
       "      <th>s1</th>\n",
       "      <td>Dick Johnson Is Dead</td>\n",
       "      <td>Documentaries</td>\n",
       "    </tr>\n",
       "    <tr>\n",
       "      <th>s2</th>\n",
       "      <td>Blood &amp; Water</td>\n",
       "      <td>International TV Shows, TV Dramas, TV Mysteries</td>\n",
       "    </tr>\n",
       "    <tr>\n",
       "      <th>s3</th>\n",
       "      <td>Ganglands</td>\n",
       "      <td>Crime TV Shows, International TV Shows, TV Act...</td>\n",
       "    </tr>\n",
       "    <tr>\n",
       "      <th>s4</th>\n",
       "      <td>Jailbirds New Orleans</td>\n",
       "      <td>Docuseries, Reality TV</td>\n",
       "    </tr>\n",
       "    <tr>\n",
       "      <th>s5</th>\n",
       "      <td>Kota Factory</td>\n",
       "      <td>International TV Shows, Romantic TV Shows, TV ...</td>\n",
       "    </tr>\n",
       "  </tbody>\n",
       "</table>\n",
       "</div>"
      ],
      "text/plain": [
       "                         title  \\\n",
       "show_id                          \n",
       "s1        Dick Johnson Is Dead   \n",
       "s2               Blood & Water   \n",
       "s3                   Ganglands   \n",
       "s4       Jailbirds New Orleans   \n",
       "s5                Kota Factory   \n",
       "\n",
       "                                                 listed_in  \n",
       "show_id                                                     \n",
       "s1                                           Documentaries  \n",
       "s2         International TV Shows, TV Dramas, TV Mysteries  \n",
       "s3       Crime TV Shows, International TV Shows, TV Act...  \n",
       "s4                                  Docuseries, Reality TV  \n",
       "s5       International TV Shows, Romantic TV Shows, TV ...  "
      ]
     },
     "execution_count": 28,
     "metadata": {},
     "output_type": "execute_result"
    }
   ],
   "source": [
    "netflix_data_genre = netflix_data[['title', 'listed_in']]\n",
    "\n",
    "netflix_data_genre.head()"
   ]
  },
  {
   "cell_type": "code",
   "execution_count": 29,
   "id": "1717a091",
   "metadata": {
    "pycharm": {
     "name": "#%%\n"
    }
   },
   "outputs": [
    {
     "data": {
      "text/html": [
       "<div>\n",
       "<style scoped>\n",
       "    .dataframe tbody tr th:only-of-type {\n",
       "        vertical-align: middle;\n",
       "    }\n",
       "\n",
       "    .dataframe tbody tr th {\n",
       "        vertical-align: top;\n",
       "    }\n",
       "\n",
       "    .dataframe thead th {\n",
       "        text-align: right;\n",
       "    }\n",
       "</style>\n",
       "<table border=\"1\" class=\"dataframe\">\n",
       "  <thead>\n",
       "    <tr style=\"text-align: right;\">\n",
       "      <th></th>\n",
       "      <th>title</th>\n",
       "      <th>listed_in</th>\n",
       "      <th>Action &amp; Adventure</th>\n",
       "      <th>Anime Features</th>\n",
       "      <th>Anime Series</th>\n",
       "      <th>British TV Shows</th>\n",
       "      <th>Children &amp; Family Movies</th>\n",
       "      <th>Classic &amp; Cult TV</th>\n",
       "      <th>Classic Movies</th>\n",
       "      <th>Comedies</th>\n",
       "      <th>...</th>\n",
       "      <th>TV Action &amp; Adventure</th>\n",
       "      <th>TV Comedies</th>\n",
       "      <th>TV Dramas</th>\n",
       "      <th>TV Horror</th>\n",
       "      <th>TV Mysteries</th>\n",
       "      <th>TV Sci-Fi &amp; Fantasy</th>\n",
       "      <th>TV Shows</th>\n",
       "      <th>TV Thrillers</th>\n",
       "      <th>Teen TV Shows</th>\n",
       "      <th>Thrillers</th>\n",
       "    </tr>\n",
       "    <tr>\n",
       "      <th>show_id</th>\n",
       "      <th></th>\n",
       "      <th></th>\n",
       "      <th></th>\n",
       "      <th></th>\n",
       "      <th></th>\n",
       "      <th></th>\n",
       "      <th></th>\n",
       "      <th></th>\n",
       "      <th></th>\n",
       "      <th></th>\n",
       "      <th></th>\n",
       "      <th></th>\n",
       "      <th></th>\n",
       "      <th></th>\n",
       "      <th></th>\n",
       "      <th></th>\n",
       "      <th></th>\n",
       "      <th></th>\n",
       "      <th></th>\n",
       "      <th></th>\n",
       "      <th></th>\n",
       "    </tr>\n",
       "  </thead>\n",
       "  <tbody>\n",
       "    <tr>\n",
       "      <th>s1</th>\n",
       "      <td>Dick Johnson Is Dead</td>\n",
       "      <td>Documentaries</td>\n",
       "      <td>0</td>\n",
       "      <td>0</td>\n",
       "      <td>0</td>\n",
       "      <td>0</td>\n",
       "      <td>0</td>\n",
       "      <td>0</td>\n",
       "      <td>0</td>\n",
       "      <td>0</td>\n",
       "      <td>...</td>\n",
       "      <td>0</td>\n",
       "      <td>0</td>\n",
       "      <td>0</td>\n",
       "      <td>0</td>\n",
       "      <td>0</td>\n",
       "      <td>0</td>\n",
       "      <td>0</td>\n",
       "      <td>0</td>\n",
       "      <td>0</td>\n",
       "      <td>0</td>\n",
       "    </tr>\n",
       "    <tr>\n",
       "      <th>s2</th>\n",
       "      <td>Blood &amp; Water</td>\n",
       "      <td>International TV Shows, TV Dramas, TV Mysteries</td>\n",
       "      <td>0</td>\n",
       "      <td>0</td>\n",
       "      <td>0</td>\n",
       "      <td>0</td>\n",
       "      <td>0</td>\n",
       "      <td>0</td>\n",
       "      <td>0</td>\n",
       "      <td>0</td>\n",
       "      <td>...</td>\n",
       "      <td>0</td>\n",
       "      <td>0</td>\n",
       "      <td>1</td>\n",
       "      <td>0</td>\n",
       "      <td>1</td>\n",
       "      <td>0</td>\n",
       "      <td>0</td>\n",
       "      <td>0</td>\n",
       "      <td>0</td>\n",
       "      <td>0</td>\n",
       "    </tr>\n",
       "    <tr>\n",
       "      <th>s3</th>\n",
       "      <td>Ganglands</td>\n",
       "      <td>Crime TV Shows, International TV Shows, TV Act...</td>\n",
       "      <td>0</td>\n",
       "      <td>0</td>\n",
       "      <td>0</td>\n",
       "      <td>0</td>\n",
       "      <td>0</td>\n",
       "      <td>0</td>\n",
       "      <td>0</td>\n",
       "      <td>0</td>\n",
       "      <td>...</td>\n",
       "      <td>1</td>\n",
       "      <td>0</td>\n",
       "      <td>0</td>\n",
       "      <td>0</td>\n",
       "      <td>0</td>\n",
       "      <td>0</td>\n",
       "      <td>0</td>\n",
       "      <td>0</td>\n",
       "      <td>0</td>\n",
       "      <td>0</td>\n",
       "    </tr>\n",
       "    <tr>\n",
       "      <th>s4</th>\n",
       "      <td>Jailbirds New Orleans</td>\n",
       "      <td>Docuseries, Reality TV</td>\n",
       "      <td>0</td>\n",
       "      <td>0</td>\n",
       "      <td>0</td>\n",
       "      <td>0</td>\n",
       "      <td>0</td>\n",
       "      <td>0</td>\n",
       "      <td>0</td>\n",
       "      <td>0</td>\n",
       "      <td>...</td>\n",
       "      <td>0</td>\n",
       "      <td>0</td>\n",
       "      <td>0</td>\n",
       "      <td>0</td>\n",
       "      <td>0</td>\n",
       "      <td>0</td>\n",
       "      <td>0</td>\n",
       "      <td>0</td>\n",
       "      <td>0</td>\n",
       "      <td>0</td>\n",
       "    </tr>\n",
       "    <tr>\n",
       "      <th>s5</th>\n",
       "      <td>Kota Factory</td>\n",
       "      <td>International TV Shows, Romantic TV Shows, TV ...</td>\n",
       "      <td>0</td>\n",
       "      <td>0</td>\n",
       "      <td>0</td>\n",
       "      <td>0</td>\n",
       "      <td>0</td>\n",
       "      <td>0</td>\n",
       "      <td>0</td>\n",
       "      <td>0</td>\n",
       "      <td>...</td>\n",
       "      <td>0</td>\n",
       "      <td>1</td>\n",
       "      <td>0</td>\n",
       "      <td>0</td>\n",
       "      <td>0</td>\n",
       "      <td>0</td>\n",
       "      <td>0</td>\n",
       "      <td>0</td>\n",
       "      <td>0</td>\n",
       "      <td>0</td>\n",
       "    </tr>\n",
       "  </tbody>\n",
       "</table>\n",
       "<p>5 rows × 44 columns</p>\n",
       "</div>"
      ],
      "text/plain": [
       "                         title  \\\n",
       "show_id                          \n",
       "s1        Dick Johnson Is Dead   \n",
       "s2               Blood & Water   \n",
       "s3                   Ganglands   \n",
       "s4       Jailbirds New Orleans   \n",
       "s5                Kota Factory   \n",
       "\n",
       "                                                 listed_in  \\\n",
       "show_id                                                      \n",
       "s1                                           Documentaries   \n",
       "s2         International TV Shows, TV Dramas, TV Mysteries   \n",
       "s3       Crime TV Shows, International TV Shows, TV Act...   \n",
       "s4                                  Docuseries, Reality TV   \n",
       "s5       International TV Shows, Romantic TV Shows, TV ...   \n",
       "\n",
       "         Action & Adventure  Anime Features  Anime Series  British TV Shows  \\\n",
       "show_id                                                                       \n",
       "s1                        0               0             0                 0   \n",
       "s2                        0               0             0                 0   \n",
       "s3                        0               0             0                 0   \n",
       "s4                        0               0             0                 0   \n",
       "s5                        0               0             0                 0   \n",
       "\n",
       "         Children & Family Movies  Classic & Cult TV  Classic Movies  \\\n",
       "show_id                                                                \n",
       "s1                              0                  0               0   \n",
       "s2                              0                  0               0   \n",
       "s3                              0                  0               0   \n",
       "s4                              0                  0               0   \n",
       "s5                              0                  0               0   \n",
       "\n",
       "         Comedies  ...  TV Action & Adventure  TV Comedies  TV Dramas  \\\n",
       "show_id            ...                                                  \n",
       "s1              0  ...                      0            0          0   \n",
       "s2              0  ...                      0            0          1   \n",
       "s3              0  ...                      1            0          0   \n",
       "s4              0  ...                      0            0          0   \n",
       "s5              0  ...                      0            1          0   \n",
       "\n",
       "         TV Horror  TV Mysteries  TV Sci-Fi & Fantasy  TV Shows  TV Thrillers  \\\n",
       "show_id                                                                         \n",
       "s1               0             0                    0         0             0   \n",
       "s2               0             1                    0         0             0   \n",
       "s3               0             0                    0         0             0   \n",
       "s4               0             0                    0         0             0   \n",
       "s5               0             0                    0         0             0   \n",
       "\n",
       "         Teen TV Shows  Thrillers  \n",
       "show_id                            \n",
       "s1                   0          0  \n",
       "s2                   0          0  \n",
       "s3                   0          0  \n",
       "s4                   0          0  \n",
       "s5                   0          0  \n",
       "\n",
       "[5 rows x 44 columns]"
      ]
     },
     "execution_count": 29,
     "metadata": {},
     "output_type": "execute_result"
    }
   ],
   "source": [
    "dummies = netflix_data_genre['listed_in'].str.get_dummies(sep=', ')\n",
    "\n",
    "netflix_data_genre_dummy = pd.concat([netflix_data_genre, dummies], axis=1)\n",
    "\n",
    "netflix_data_genre_dummy.head()"
   ]
  },
  {
   "cell_type": "code",
   "execution_count": 30,
   "id": "8a922ac1",
   "metadata": {
    "pycharm": {
     "name": "#%%\n"
    }
   },
   "outputs": [],
   "source": [
    "netflix_data_genre_dummy.drop('listed_in', axis=1, inplace=True)"
   ]
  },
  {
   "cell_type": "code",
   "execution_count": 31,
   "id": "6c79b1dd",
   "metadata": {
    "pycharm": {
     "name": "#%%\n"
    }
   },
   "outputs": [
    {
     "data": {
      "text/html": [
       "<div>\n",
       "<style scoped>\n",
       "    .dataframe tbody tr th:only-of-type {\n",
       "        vertical-align: middle;\n",
       "    }\n",
       "\n",
       "    .dataframe tbody tr th {\n",
       "        vertical-align: top;\n",
       "    }\n",
       "\n",
       "    .dataframe thead th {\n",
       "        text-align: right;\n",
       "    }\n",
       "</style>\n",
       "<table border=\"1\" class=\"dataframe\">\n",
       "  <thead>\n",
       "    <tr style=\"text-align: right;\">\n",
       "      <th></th>\n",
       "      <th>Action &amp; Adventure</th>\n",
       "      <th>Anime Features</th>\n",
       "      <th>Anime Series</th>\n",
       "      <th>British TV Shows</th>\n",
       "      <th>Children &amp; Family Movies</th>\n",
       "      <th>Classic &amp; Cult TV</th>\n",
       "      <th>Classic Movies</th>\n",
       "      <th>Comedies</th>\n",
       "      <th>Crime TV Shows</th>\n",
       "      <th>Cult Movies</th>\n",
       "      <th>...</th>\n",
       "      <th>TV Action &amp; Adventure</th>\n",
       "      <th>TV Comedies</th>\n",
       "      <th>TV Dramas</th>\n",
       "      <th>TV Horror</th>\n",
       "      <th>TV Mysteries</th>\n",
       "      <th>TV Sci-Fi &amp; Fantasy</th>\n",
       "      <th>TV Shows</th>\n",
       "      <th>TV Thrillers</th>\n",
       "      <th>Teen TV Shows</th>\n",
       "      <th>Thrillers</th>\n",
       "    </tr>\n",
       "    <tr>\n",
       "      <th>title</th>\n",
       "      <th></th>\n",
       "      <th></th>\n",
       "      <th></th>\n",
       "      <th></th>\n",
       "      <th></th>\n",
       "      <th></th>\n",
       "      <th></th>\n",
       "      <th></th>\n",
       "      <th></th>\n",
       "      <th></th>\n",
       "      <th></th>\n",
       "      <th></th>\n",
       "      <th></th>\n",
       "      <th></th>\n",
       "      <th></th>\n",
       "      <th></th>\n",
       "      <th></th>\n",
       "      <th></th>\n",
       "      <th></th>\n",
       "      <th></th>\n",
       "      <th></th>\n",
       "    </tr>\n",
       "  </thead>\n",
       "  <tbody>\n",
       "    <tr>\n",
       "      <th>Dick Johnson Is Dead</th>\n",
       "      <td>0</td>\n",
       "      <td>0</td>\n",
       "      <td>0</td>\n",
       "      <td>0</td>\n",
       "      <td>0</td>\n",
       "      <td>0</td>\n",
       "      <td>0</td>\n",
       "      <td>0</td>\n",
       "      <td>0</td>\n",
       "      <td>0</td>\n",
       "      <td>...</td>\n",
       "      <td>0</td>\n",
       "      <td>0</td>\n",
       "      <td>0</td>\n",
       "      <td>0</td>\n",
       "      <td>0</td>\n",
       "      <td>0</td>\n",
       "      <td>0</td>\n",
       "      <td>0</td>\n",
       "      <td>0</td>\n",
       "      <td>0</td>\n",
       "    </tr>\n",
       "    <tr>\n",
       "      <th>Blood &amp; Water</th>\n",
       "      <td>0</td>\n",
       "      <td>0</td>\n",
       "      <td>0</td>\n",
       "      <td>0</td>\n",
       "      <td>0</td>\n",
       "      <td>0</td>\n",
       "      <td>0</td>\n",
       "      <td>0</td>\n",
       "      <td>0</td>\n",
       "      <td>0</td>\n",
       "      <td>...</td>\n",
       "      <td>0</td>\n",
       "      <td>0</td>\n",
       "      <td>1</td>\n",
       "      <td>0</td>\n",
       "      <td>1</td>\n",
       "      <td>0</td>\n",
       "      <td>0</td>\n",
       "      <td>0</td>\n",
       "      <td>0</td>\n",
       "      <td>0</td>\n",
       "    </tr>\n",
       "    <tr>\n",
       "      <th>Ganglands</th>\n",
       "      <td>0</td>\n",
       "      <td>0</td>\n",
       "      <td>0</td>\n",
       "      <td>0</td>\n",
       "      <td>0</td>\n",
       "      <td>0</td>\n",
       "      <td>0</td>\n",
       "      <td>0</td>\n",
       "      <td>1</td>\n",
       "      <td>0</td>\n",
       "      <td>...</td>\n",
       "      <td>1</td>\n",
       "      <td>0</td>\n",
       "      <td>0</td>\n",
       "      <td>0</td>\n",
       "      <td>0</td>\n",
       "      <td>0</td>\n",
       "      <td>0</td>\n",
       "      <td>0</td>\n",
       "      <td>0</td>\n",
       "      <td>0</td>\n",
       "    </tr>\n",
       "    <tr>\n",
       "      <th>Jailbirds New Orleans</th>\n",
       "      <td>0</td>\n",
       "      <td>0</td>\n",
       "      <td>0</td>\n",
       "      <td>0</td>\n",
       "      <td>0</td>\n",
       "      <td>0</td>\n",
       "      <td>0</td>\n",
       "      <td>0</td>\n",
       "      <td>0</td>\n",
       "      <td>0</td>\n",
       "      <td>...</td>\n",
       "      <td>0</td>\n",
       "      <td>0</td>\n",
       "      <td>0</td>\n",
       "      <td>0</td>\n",
       "      <td>0</td>\n",
       "      <td>0</td>\n",
       "      <td>0</td>\n",
       "      <td>0</td>\n",
       "      <td>0</td>\n",
       "      <td>0</td>\n",
       "    </tr>\n",
       "    <tr>\n",
       "      <th>Kota Factory</th>\n",
       "      <td>0</td>\n",
       "      <td>0</td>\n",
       "      <td>0</td>\n",
       "      <td>0</td>\n",
       "      <td>0</td>\n",
       "      <td>0</td>\n",
       "      <td>0</td>\n",
       "      <td>0</td>\n",
       "      <td>0</td>\n",
       "      <td>0</td>\n",
       "      <td>...</td>\n",
       "      <td>0</td>\n",
       "      <td>1</td>\n",
       "      <td>0</td>\n",
       "      <td>0</td>\n",
       "      <td>0</td>\n",
       "      <td>0</td>\n",
       "      <td>0</td>\n",
       "      <td>0</td>\n",
       "      <td>0</td>\n",
       "      <td>0</td>\n",
       "    </tr>\n",
       "  </tbody>\n",
       "</table>\n",
       "<p>5 rows × 42 columns</p>\n",
       "</div>"
      ],
      "text/plain": [
       "                       Action & Adventure  Anime Features  Anime Series  \\\n",
       "title                                                                     \n",
       "Dick Johnson Is Dead                    0               0             0   \n",
       "Blood & Water                           0               0             0   \n",
       "Ganglands                               0               0             0   \n",
       "Jailbirds New Orleans                   0               0             0   \n",
       "Kota Factory                            0               0             0   \n",
       "\n",
       "                       British TV Shows  Children & Family Movies  \\\n",
       "title                                                               \n",
       "Dick Johnson Is Dead                  0                         0   \n",
       "Blood & Water                         0                         0   \n",
       "Ganglands                             0                         0   \n",
       "Jailbirds New Orleans                 0                         0   \n",
       "Kota Factory                          0                         0   \n",
       "\n",
       "                       Classic & Cult TV  Classic Movies  Comedies  \\\n",
       "title                                                                \n",
       "Dick Johnson Is Dead                   0               0         0   \n",
       "Blood & Water                          0               0         0   \n",
       "Ganglands                              0               0         0   \n",
       "Jailbirds New Orleans                  0               0         0   \n",
       "Kota Factory                           0               0         0   \n",
       "\n",
       "                       Crime TV Shows  Cult Movies  ...  \\\n",
       "title                                               ...   \n",
       "Dick Johnson Is Dead                0            0  ...   \n",
       "Blood & Water                       0            0  ...   \n",
       "Ganglands                           1            0  ...   \n",
       "Jailbirds New Orleans               0            0  ...   \n",
       "Kota Factory                        0            0  ...   \n",
       "\n",
       "                       TV Action & Adventure  TV Comedies  TV Dramas  \\\n",
       "title                                                                  \n",
       "Dick Johnson Is Dead                       0            0          0   \n",
       "Blood & Water                              0            0          1   \n",
       "Ganglands                                  1            0          0   \n",
       "Jailbirds New Orleans                      0            0          0   \n",
       "Kota Factory                               0            1          0   \n",
       "\n",
       "                       TV Horror  TV Mysteries  TV Sci-Fi & Fantasy  TV Shows  \\\n",
       "title                                                                           \n",
       "Dick Johnson Is Dead           0             0                    0         0   \n",
       "Blood & Water                  0             1                    0         0   \n",
       "Ganglands                      0             0                    0         0   \n",
       "Jailbirds New Orleans          0             0                    0         0   \n",
       "Kota Factory                   0             0                    0         0   \n",
       "\n",
       "                       TV Thrillers  Teen TV Shows  Thrillers  \n",
       "title                                                          \n",
       "Dick Johnson Is Dead              0              0          0  \n",
       "Blood & Water                     0              0          0  \n",
       "Ganglands                         0              0          0  \n",
       "Jailbirds New Orleans             0              0          0  \n",
       "Kota Factory                      0              0          0  \n",
       "\n",
       "[5 rows x 42 columns]"
      ]
     },
     "execution_count": 31,
     "metadata": {},
     "output_type": "execute_result"
    }
   ],
   "source": [
    "netflix_data_genre_dummy = netflix_data_genre_dummy.set_index('title')\n",
    "\n",
    "netflix_data_genre_dummy.head()"
   ]
  },
  {
   "cell_type": "code",
   "execution_count": 32,
   "id": "2085f9f0",
   "metadata": {
    "pycharm": {
     "name": "#%%\n"
    }
   },
   "outputs": [],
   "source": [
    "from scipy.spatial.distance import pdist, squareform"
   ]
  },
  {
   "cell_type": "code",
   "execution_count": 33,
   "id": "4fb429fa",
   "metadata": {
    "pycharm": {
     "name": "#%%\n"
    }
   },
   "outputs": [],
   "source": [
    "jaccard_distances = pdist(netflix_data_genre_dummy, metric='jaccard')\n",
    "\n",
    "jaccard_similarity_array = 1 - squareform(jaccard_distances)\n",
    "\n",
    "jaccard_similarity_df = pd.DataFrame(jaccard_similarity_array, columns=netflix_data_genre_dummy.index, index=netflix_data_genre_dummy.index)"
   ]
  },
  {
   "cell_type": "code",
   "execution_count": 34,
   "id": "05e05912",
   "metadata": {
    "pycharm": {
     "name": "#%%\n"
    }
   },
   "outputs": [
    {
     "data": {
      "text/html": [
       "<div>\n",
       "<style scoped>\n",
       "    .dataframe tbody tr th:only-of-type {\n",
       "        vertical-align: middle;\n",
       "    }\n",
       "\n",
       "    .dataframe tbody tr th {\n",
       "        vertical-align: top;\n",
       "    }\n",
       "\n",
       "    .dataframe thead th {\n",
       "        text-align: right;\n",
       "    }\n",
       "</style>\n",
       "<table border=\"1\" class=\"dataframe\">\n",
       "  <thead>\n",
       "    <tr style=\"text-align: right;\">\n",
       "      <th>title</th>\n",
       "      <th>Dick Johnson Is Dead</th>\n",
       "      <th>Blood &amp; Water</th>\n",
       "      <th>Ganglands</th>\n",
       "      <th>Jailbirds New Orleans</th>\n",
       "      <th>Kota Factory</th>\n",
       "      <th>Midnight Mass</th>\n",
       "      <th>My Little Pony: A New Generation</th>\n",
       "      <th>Sankofa</th>\n",
       "      <th>The Great British Baking Show</th>\n",
       "      <th>The Starling</th>\n",
       "      <th>...</th>\n",
       "      <th>Zak Storm</th>\n",
       "      <th>Zed Plus</th>\n",
       "      <th>Zenda</th>\n",
       "      <th>Zindagi Gulzar Hai</th>\n",
       "      <th>Zinzana</th>\n",
       "      <th>Zodiac</th>\n",
       "      <th>Zombie Dumb</th>\n",
       "      <th>Zombieland</th>\n",
       "      <th>Zoom</th>\n",
       "      <th>Zubaan</th>\n",
       "    </tr>\n",
       "    <tr>\n",
       "      <th>title</th>\n",
       "      <th></th>\n",
       "      <th></th>\n",
       "      <th></th>\n",
       "      <th></th>\n",
       "      <th></th>\n",
       "      <th></th>\n",
       "      <th></th>\n",
       "      <th></th>\n",
       "      <th></th>\n",
       "      <th></th>\n",
       "      <th></th>\n",
       "      <th></th>\n",
       "      <th></th>\n",
       "      <th></th>\n",
       "      <th></th>\n",
       "      <th></th>\n",
       "      <th></th>\n",
       "      <th></th>\n",
       "      <th></th>\n",
       "      <th></th>\n",
       "      <th></th>\n",
       "    </tr>\n",
       "  </thead>\n",
       "  <tbody>\n",
       "    <tr>\n",
       "      <th>Dick Johnson Is Dead</th>\n",
       "      <td>1.0</td>\n",
       "      <td>0.0</td>\n",
       "      <td>0.0</td>\n",
       "      <td>0.0</td>\n",
       "      <td>0.0</td>\n",
       "      <td>0.0</td>\n",
       "      <td>0.0</td>\n",
       "      <td>0.0</td>\n",
       "      <td>0.000000</td>\n",
       "      <td>0.0</td>\n",
       "      <td>...</td>\n",
       "      <td>0.0</td>\n",
       "      <td>0.0</td>\n",
       "      <td>0.0</td>\n",
       "      <td>0.0</td>\n",
       "      <td>0.0</td>\n",
       "      <td>0.0</td>\n",
       "      <td>0.0</td>\n",
       "      <td>0.0</td>\n",
       "      <td>0.0</td>\n",
       "      <td>0.0</td>\n",
       "    </tr>\n",
       "    <tr>\n",
       "      <th>Blood &amp; Water</th>\n",
       "      <td>0.0</td>\n",
       "      <td>1.0</td>\n",
       "      <td>0.2</td>\n",
       "      <td>0.0</td>\n",
       "      <td>0.2</td>\n",
       "      <td>0.5</td>\n",
       "      <td>0.0</td>\n",
       "      <td>0.0</td>\n",
       "      <td>0.000000</td>\n",
       "      <td>0.0</td>\n",
       "      <td>...</td>\n",
       "      <td>0.0</td>\n",
       "      <td>0.0</td>\n",
       "      <td>0.0</td>\n",
       "      <td>0.5</td>\n",
       "      <td>0.0</td>\n",
       "      <td>0.0</td>\n",
       "      <td>0.0</td>\n",
       "      <td>0.0</td>\n",
       "      <td>0.0</td>\n",
       "      <td>0.0</td>\n",
       "    </tr>\n",
       "    <tr>\n",
       "      <th>Ganglands</th>\n",
       "      <td>0.0</td>\n",
       "      <td>0.2</td>\n",
       "      <td>1.0</td>\n",
       "      <td>0.0</td>\n",
       "      <td>0.2</td>\n",
       "      <td>0.0</td>\n",
       "      <td>0.0</td>\n",
       "      <td>0.0</td>\n",
       "      <td>0.000000</td>\n",
       "      <td>0.0</td>\n",
       "      <td>...</td>\n",
       "      <td>0.0</td>\n",
       "      <td>0.0</td>\n",
       "      <td>0.0</td>\n",
       "      <td>0.2</td>\n",
       "      <td>0.0</td>\n",
       "      <td>0.0</td>\n",
       "      <td>0.0</td>\n",
       "      <td>0.0</td>\n",
       "      <td>0.0</td>\n",
       "      <td>0.0</td>\n",
       "    </tr>\n",
       "    <tr>\n",
       "      <th>Jailbirds New Orleans</th>\n",
       "      <td>0.0</td>\n",
       "      <td>0.0</td>\n",
       "      <td>0.0</td>\n",
       "      <td>1.0</td>\n",
       "      <td>0.0</td>\n",
       "      <td>0.0</td>\n",
       "      <td>0.0</td>\n",
       "      <td>0.0</td>\n",
       "      <td>0.333333</td>\n",
       "      <td>0.0</td>\n",
       "      <td>...</td>\n",
       "      <td>0.0</td>\n",
       "      <td>0.0</td>\n",
       "      <td>0.0</td>\n",
       "      <td>0.0</td>\n",
       "      <td>0.0</td>\n",
       "      <td>0.0</td>\n",
       "      <td>0.0</td>\n",
       "      <td>0.0</td>\n",
       "      <td>0.0</td>\n",
       "      <td>0.0</td>\n",
       "    </tr>\n",
       "    <tr>\n",
       "      <th>Kota Factory</th>\n",
       "      <td>0.0</td>\n",
       "      <td>0.2</td>\n",
       "      <td>0.2</td>\n",
       "      <td>0.0</td>\n",
       "      <td>1.0</td>\n",
       "      <td>0.0</td>\n",
       "      <td>0.0</td>\n",
       "      <td>0.0</td>\n",
       "      <td>0.000000</td>\n",
       "      <td>0.0</td>\n",
       "      <td>...</td>\n",
       "      <td>0.0</td>\n",
       "      <td>0.0</td>\n",
       "      <td>0.0</td>\n",
       "      <td>0.5</td>\n",
       "      <td>0.0</td>\n",
       "      <td>0.0</td>\n",
       "      <td>0.2</td>\n",
       "      <td>0.0</td>\n",
       "      <td>0.0</td>\n",
       "      <td>0.0</td>\n",
       "    </tr>\n",
       "  </tbody>\n",
       "</table>\n",
       "<p>5 rows × 8807 columns</p>\n",
       "</div>"
      ],
      "text/plain": [
       "title                  Dick Johnson Is Dead  Blood & Water  Ganglands  \\\n",
       "title                                                                   \n",
       "Dick Johnson Is Dead                    1.0            0.0        0.0   \n",
       "Blood & Water                           0.0            1.0        0.2   \n",
       "Ganglands                               0.0            0.2        1.0   \n",
       "Jailbirds New Orleans                   0.0            0.0        0.0   \n",
       "Kota Factory                            0.0            0.2        0.2   \n",
       "\n",
       "title                  Jailbirds New Orleans  Kota Factory  Midnight Mass  \\\n",
       "title                                                                       \n",
       "Dick Johnson Is Dead                     0.0           0.0            0.0   \n",
       "Blood & Water                            0.0           0.2            0.5   \n",
       "Ganglands                                0.0           0.2            0.0   \n",
       "Jailbirds New Orleans                    1.0           0.0            0.0   \n",
       "Kota Factory                             0.0           1.0            0.0   \n",
       "\n",
       "title                  My Little Pony: A New Generation  Sankofa  \\\n",
       "title                                                              \n",
       "Dick Johnson Is Dead                                0.0      0.0   \n",
       "Blood & Water                                       0.0      0.0   \n",
       "Ganglands                                           0.0      0.0   \n",
       "Jailbirds New Orleans                               0.0      0.0   \n",
       "Kota Factory                                        0.0      0.0   \n",
       "\n",
       "title                  The Great British Baking Show  The Starling  ...  \\\n",
       "title                                                               ...   \n",
       "Dick Johnson Is Dead                        0.000000           0.0  ...   \n",
       "Blood & Water                               0.000000           0.0  ...   \n",
       "Ganglands                                   0.000000           0.0  ...   \n",
       "Jailbirds New Orleans                       0.333333           0.0  ...   \n",
       "Kota Factory                                0.000000           0.0  ...   \n",
       "\n",
       "title                  Zak Storm  Zed Plus  Zenda  Zindagi Gulzar Hai  \\\n",
       "title                                                                   \n",
       "Dick Johnson Is Dead         0.0       0.0    0.0                 0.0   \n",
       "Blood & Water                0.0       0.0    0.0                 0.5   \n",
       "Ganglands                    0.0       0.0    0.0                 0.2   \n",
       "Jailbirds New Orleans        0.0       0.0    0.0                 0.0   \n",
       "Kota Factory                 0.0       0.0    0.0                 0.5   \n",
       "\n",
       "title                  Zinzana  Zodiac  Zombie Dumb  Zombieland  Zoom  Zubaan  \n",
       "title                                                                          \n",
       "Dick Johnson Is Dead       0.0     0.0          0.0         0.0   0.0     0.0  \n",
       "Blood & Water              0.0     0.0          0.0         0.0   0.0     0.0  \n",
       "Ganglands                  0.0     0.0          0.0         0.0   0.0     0.0  \n",
       "Jailbirds New Orleans      0.0     0.0          0.0         0.0   0.0     0.0  \n",
       "Kota Factory               0.0     0.0          0.2         0.0   0.0     0.0  \n",
       "\n",
       "[5 rows x 8807 columns]"
      ]
     },
     "execution_count": 34,
     "metadata": {},
     "output_type": "execute_result"
    }
   ],
   "source": [
    "jaccard_similarity_df.head()"
   ]
  },
  {
   "cell_type": "code",
   "execution_count": 37,
   "id": "371dec18",
   "metadata": {
    "pycharm": {
     "name": "#%%\n"
    }
   },
   "outputs": [],
   "source": [
    "jaccard_similarity_series = jaccard_similarity_df.loc['Blood & Water']\n",
    "\n",
    "ordered_similarities = jaccard_similarity_series.sort_values(ascending=False)"
   ]
  },
  {
   "cell_type": "code",
   "execution_count": 38,
   "id": "9cd4b7fc",
   "metadata": {
    "pycharm": {
     "name": "#%%\n"
    }
   },
   "outputs": [
    {
     "data": {
      "text/plain": [
       "title\n",
       "46                   1.0\n",
       "Kissing Game         1.0\n",
       "Re:Mind              1.0\n",
       "Osmosis              1.0\n",
       "Secret City          1.0\n",
       "Blood & Water        1.0\n",
       "Tabula Rasa          1.0\n",
       "Into the Night       1.0\n",
       "Switched             1.0\n",
       "We Are the Wave      1.0\n",
       "Between              1.0\n",
       "More to Say          1.0\n",
       "To the Lake          1.0\n",
       "The Rain             1.0\n",
       "Disappearance        1.0\n",
       "Girl from Nowhere    1.0\n",
       "The Ghost Bride      1.0\n",
       "Jinn                 1.0\n",
       "On Children          1.0\n",
       "Open Your Eyes       1.0\n",
       "Name: Blood & Water, dtype: float64"
      ]
     },
     "execution_count": 38,
     "metadata": {},
     "output_type": "execute_result"
    }
   ],
   "source": [
    "ordered_similarities.head(20)"
   ]
  },
  {
   "cell_type": "code",
   "execution_count": 1,
   "id": "d131b751",
   "metadata": {
    "pycharm": {
     "name": "#%%\n"
    }
   },
   "outputs": [
    {
     "data": {
      "text/plain": "                   title  aamir  aaron  abandoned  abandons  abbey  abduct  \\\n0   Dick Johnson Is Dead    0.0    0.0        0.0       0.0    0.0     0.0   \n1          Blood & Water    0.0    0.0        0.0       0.0    0.0     0.0   \n2              Ganglands    0.0    0.0        0.0       0.0    0.0     0.0   \n3  Jailbirds New Orleans    0.0    0.0        0.0       0.0    0.0     0.0   \n4           Kota Factory    0.0    0.0        0.0       0.0    0.0     0.0   \n\n   abducted  abduction  abductors  ...  zero  zion  zip  zodiac  zoe  zombie  \\\n0  0.000000        0.0        0.0  ...   0.0   0.0  0.0     0.0  0.0     0.0   \n1  0.285528        0.0        0.0  ...   0.0   0.0  0.0     0.0  0.0     0.0   \n2  0.000000        0.0        0.0  ...   0.0   0.0  0.0     0.0  0.0     0.0   \n3  0.000000        0.0        0.0  ...   0.0   0.0  0.0     0.0  0.0     0.0   \n4  0.000000        0.0        0.0  ...   0.0   0.0  0.0     0.0  0.0     0.0   \n\n   zombies  zone  zoo  zoom  \n0      0.0   0.0  0.0   0.0  \n1      0.0   0.0  0.0   0.0  \n2      0.0   0.0  0.0   0.0  \n3      0.0   0.0  0.0   0.0  \n4      0.0   0.0  0.0   0.0  \n\n[5 rows x 9905 columns]",
      "text/html": "<div>\n<style scoped>\n    .dataframe tbody tr th:only-of-type {\n        vertical-align: middle;\n    }\n\n    .dataframe tbody tr th {\n        vertical-align: top;\n    }\n\n    .dataframe thead th {\n        text-align: right;\n    }\n</style>\n<table border=\"1\" class=\"dataframe\">\n  <thead>\n    <tr style=\"text-align: right;\">\n      <th></th>\n      <th>title</th>\n      <th>aamir</th>\n      <th>aaron</th>\n      <th>abandoned</th>\n      <th>abandons</th>\n      <th>abbey</th>\n      <th>abduct</th>\n      <th>abducted</th>\n      <th>abduction</th>\n      <th>abductors</th>\n      <th>...</th>\n      <th>zero</th>\n      <th>zion</th>\n      <th>zip</th>\n      <th>zodiac</th>\n      <th>zoe</th>\n      <th>zombie</th>\n      <th>zombies</th>\n      <th>zone</th>\n      <th>zoo</th>\n      <th>zoom</th>\n    </tr>\n  </thead>\n  <tbody>\n    <tr>\n      <th>0</th>\n      <td>Dick Johnson Is Dead</td>\n      <td>0.0</td>\n      <td>0.0</td>\n      <td>0.0</td>\n      <td>0.0</td>\n      <td>0.0</td>\n      <td>0.0</td>\n      <td>0.000000</td>\n      <td>0.0</td>\n      <td>0.0</td>\n      <td>...</td>\n      <td>0.0</td>\n      <td>0.0</td>\n      <td>0.0</td>\n      <td>0.0</td>\n      <td>0.0</td>\n      <td>0.0</td>\n      <td>0.0</td>\n      <td>0.0</td>\n      <td>0.0</td>\n      <td>0.0</td>\n    </tr>\n    <tr>\n      <th>1</th>\n      <td>Blood &amp; Water</td>\n      <td>0.0</td>\n      <td>0.0</td>\n      <td>0.0</td>\n      <td>0.0</td>\n      <td>0.0</td>\n      <td>0.0</td>\n      <td>0.285528</td>\n      <td>0.0</td>\n      <td>0.0</td>\n      <td>...</td>\n      <td>0.0</td>\n      <td>0.0</td>\n      <td>0.0</td>\n      <td>0.0</td>\n      <td>0.0</td>\n      <td>0.0</td>\n      <td>0.0</td>\n      <td>0.0</td>\n      <td>0.0</td>\n      <td>0.0</td>\n    </tr>\n    <tr>\n      <th>2</th>\n      <td>Ganglands</td>\n      <td>0.0</td>\n      <td>0.0</td>\n      <td>0.0</td>\n      <td>0.0</td>\n      <td>0.0</td>\n      <td>0.0</td>\n      <td>0.000000</td>\n      <td>0.0</td>\n      <td>0.0</td>\n      <td>...</td>\n      <td>0.0</td>\n      <td>0.0</td>\n      <td>0.0</td>\n      <td>0.0</td>\n      <td>0.0</td>\n      <td>0.0</td>\n      <td>0.0</td>\n      <td>0.0</td>\n      <td>0.0</td>\n      <td>0.0</td>\n    </tr>\n    <tr>\n      <th>3</th>\n      <td>Jailbirds New Orleans</td>\n      <td>0.0</td>\n      <td>0.0</td>\n      <td>0.0</td>\n      <td>0.0</td>\n      <td>0.0</td>\n      <td>0.0</td>\n      <td>0.000000</td>\n      <td>0.0</td>\n      <td>0.0</td>\n      <td>...</td>\n      <td>0.0</td>\n      <td>0.0</td>\n      <td>0.0</td>\n      <td>0.0</td>\n      <td>0.0</td>\n      <td>0.0</td>\n      <td>0.0</td>\n      <td>0.0</td>\n      <td>0.0</td>\n      <td>0.0</td>\n    </tr>\n    <tr>\n      <th>4</th>\n      <td>Kota Factory</td>\n      <td>0.0</td>\n      <td>0.0</td>\n      <td>0.0</td>\n      <td>0.0</td>\n      <td>0.0</td>\n      <td>0.0</td>\n      <td>0.000000</td>\n      <td>0.0</td>\n      <td>0.0</td>\n      <td>...</td>\n      <td>0.0</td>\n      <td>0.0</td>\n      <td>0.0</td>\n      <td>0.0</td>\n      <td>0.0</td>\n      <td>0.0</td>\n      <td>0.0</td>\n      <td>0.0</td>\n      <td>0.0</td>\n      <td>0.0</td>\n    </tr>\n  </tbody>\n</table>\n<p>5 rows × 9905 columns</p>\n</div>"
     },
     "execution_count": 1,
     "metadata": {},
     "output_type": "execute_result"
    }
   ],
   "source": [
    "import pandas as pd\n",
    "df = pd.read_csv(\"data/tfidf_data.csv\")\n",
    "df.head()"
   ]
  },
  {
   "cell_type": "code",
   "execution_count": 3,
   "outputs": [],
   "source": [
    "df.to_feather(\"data/tfidf_data.feather\")"
   ],
   "metadata": {
    "collapsed": false,
    "pycharm": {
     "name": "#%%\n"
    }
   }
  },
  {
   "cell_type": "code",
   "execution_count": 4,
   "outputs": [
    {
     "data": {
      "text/plain": "                   title  aamir  aaron  abandoned  abandons  abbey  abduct  \\\n0   Dick Johnson Is Dead    0.0    0.0        0.0       0.0    0.0     0.0   \n1          Blood & Water    0.0    0.0        0.0       0.0    0.0     0.0   \n2              Ganglands    0.0    0.0        0.0       0.0    0.0     0.0   \n3  Jailbirds New Orleans    0.0    0.0        0.0       0.0    0.0     0.0   \n4           Kota Factory    0.0    0.0        0.0       0.0    0.0     0.0   \n\n   abducted  abduction  abductors  ...  zero  zion  zip  zodiac  zoe  zombie  \\\n0  0.000000        0.0        0.0  ...   0.0   0.0  0.0     0.0  0.0     0.0   \n1  0.285528        0.0        0.0  ...   0.0   0.0  0.0     0.0  0.0     0.0   \n2  0.000000        0.0        0.0  ...   0.0   0.0  0.0     0.0  0.0     0.0   \n3  0.000000        0.0        0.0  ...   0.0   0.0  0.0     0.0  0.0     0.0   \n4  0.000000        0.0        0.0  ...   0.0   0.0  0.0     0.0  0.0     0.0   \n\n   zombies  zone  zoo  zoom  \n0      0.0   0.0  0.0   0.0  \n1      0.0   0.0  0.0   0.0  \n2      0.0   0.0  0.0   0.0  \n3      0.0   0.0  0.0   0.0  \n4      0.0   0.0  0.0   0.0  \n\n[5 rows x 9905 columns]",
      "text/html": "<div>\n<style scoped>\n    .dataframe tbody tr th:only-of-type {\n        vertical-align: middle;\n    }\n\n    .dataframe tbody tr th {\n        vertical-align: top;\n    }\n\n    .dataframe thead th {\n        text-align: right;\n    }\n</style>\n<table border=\"1\" class=\"dataframe\">\n  <thead>\n    <tr style=\"text-align: right;\">\n      <th></th>\n      <th>title</th>\n      <th>aamir</th>\n      <th>aaron</th>\n      <th>abandoned</th>\n      <th>abandons</th>\n      <th>abbey</th>\n      <th>abduct</th>\n      <th>abducted</th>\n      <th>abduction</th>\n      <th>abductors</th>\n      <th>...</th>\n      <th>zero</th>\n      <th>zion</th>\n      <th>zip</th>\n      <th>zodiac</th>\n      <th>zoe</th>\n      <th>zombie</th>\n      <th>zombies</th>\n      <th>zone</th>\n      <th>zoo</th>\n      <th>zoom</th>\n    </tr>\n  </thead>\n  <tbody>\n    <tr>\n      <th>0</th>\n      <td>Dick Johnson Is Dead</td>\n      <td>0.0</td>\n      <td>0.0</td>\n      <td>0.0</td>\n      <td>0.0</td>\n      <td>0.0</td>\n      <td>0.0</td>\n      <td>0.000000</td>\n      <td>0.0</td>\n      <td>0.0</td>\n      <td>...</td>\n      <td>0.0</td>\n      <td>0.0</td>\n      <td>0.0</td>\n      <td>0.0</td>\n      <td>0.0</td>\n      <td>0.0</td>\n      <td>0.0</td>\n      <td>0.0</td>\n      <td>0.0</td>\n      <td>0.0</td>\n    </tr>\n    <tr>\n      <th>1</th>\n      <td>Blood &amp; Water</td>\n      <td>0.0</td>\n      <td>0.0</td>\n      <td>0.0</td>\n      <td>0.0</td>\n      <td>0.0</td>\n      <td>0.0</td>\n      <td>0.285528</td>\n      <td>0.0</td>\n      <td>0.0</td>\n      <td>...</td>\n      <td>0.0</td>\n      <td>0.0</td>\n      <td>0.0</td>\n      <td>0.0</td>\n      <td>0.0</td>\n      <td>0.0</td>\n      <td>0.0</td>\n      <td>0.0</td>\n      <td>0.0</td>\n      <td>0.0</td>\n    </tr>\n    <tr>\n      <th>2</th>\n      <td>Ganglands</td>\n      <td>0.0</td>\n      <td>0.0</td>\n      <td>0.0</td>\n      <td>0.0</td>\n      <td>0.0</td>\n      <td>0.0</td>\n      <td>0.000000</td>\n      <td>0.0</td>\n      <td>0.0</td>\n      <td>...</td>\n      <td>0.0</td>\n      <td>0.0</td>\n      <td>0.0</td>\n      <td>0.0</td>\n      <td>0.0</td>\n      <td>0.0</td>\n      <td>0.0</td>\n      <td>0.0</td>\n      <td>0.0</td>\n      <td>0.0</td>\n    </tr>\n    <tr>\n      <th>3</th>\n      <td>Jailbirds New Orleans</td>\n      <td>0.0</td>\n      <td>0.0</td>\n      <td>0.0</td>\n      <td>0.0</td>\n      <td>0.0</td>\n      <td>0.0</td>\n      <td>0.000000</td>\n      <td>0.0</td>\n      <td>0.0</td>\n      <td>...</td>\n      <td>0.0</td>\n      <td>0.0</td>\n      <td>0.0</td>\n      <td>0.0</td>\n      <td>0.0</td>\n      <td>0.0</td>\n      <td>0.0</td>\n      <td>0.0</td>\n      <td>0.0</td>\n      <td>0.0</td>\n    </tr>\n    <tr>\n      <th>4</th>\n      <td>Kota Factory</td>\n      <td>0.0</td>\n      <td>0.0</td>\n      <td>0.0</td>\n      <td>0.0</td>\n      <td>0.0</td>\n      <td>0.0</td>\n      <td>0.000000</td>\n      <td>0.0</td>\n      <td>0.0</td>\n      <td>...</td>\n      <td>0.0</td>\n      <td>0.0</td>\n      <td>0.0</td>\n      <td>0.0</td>\n      <td>0.0</td>\n      <td>0.0</td>\n      <td>0.0</td>\n      <td>0.0</td>\n      <td>0.0</td>\n      <td>0.0</td>\n    </tr>\n  </tbody>\n</table>\n<p>5 rows × 9905 columns</p>\n</div>"
     },
     "execution_count": 4,
     "metadata": {},
     "output_type": "execute_result"
    }
   ],
   "source": [
    "df1 = pd.read_feather(\"data/tfidf_data.feather\")\n",
    "df1.head()"
   ],
   "metadata": {
    "collapsed": false,
    "pycharm": {
     "name": "#%%\n"
    }
   }
  }
 ],
 "metadata": {
  "colab": {
   "name": "Welcome to DataCamp Workspaces.ipynb",
   "provenance": []
  },
  "kernelspec": {
   "display_name": "Python 3 (ipykernel)",
   "language": "python",
   "name": "python3"
  },
  "language_info": {
   "codemirror_mode": {
    "name": "ipython",
    "version": 3
   },
   "file_extension": ".py",
   "mimetype": "text/x-python",
   "name": "python",
   "nbconvert_exporter": "python",
   "pygments_lexer": "ipython3",
   "version": "3.7.9"
  }
 },
 "nbformat": 4,
 "nbformat_minor": 5
}